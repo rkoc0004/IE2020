{
 "cells": [
  {
   "cell_type": "code",
   "execution_count": 34,
   "metadata": {},
   "outputs": [],
   "source": [
    "import pandas as pd\n",
    "import geopandas as gpd\n",
    "import numpy as np\n",
    "import matplotlib.pyplot as plt"
   ]
  },
  {
   "cell_type": "code",
   "execution_count": 2,
   "metadata": {},
   "outputs": [
    {
     "ename": "KeyboardInterrupt",
     "evalue": "",
     "output_type": "error",
     "traceback": [
      "\u001b[1;31m---------------------------------------------------------------------------\u001b[0m",
      "\u001b[1;31mKeyboardInterrupt\u001b[0m                         Traceback (most recent call last)",
      "\u001b[1;32m<ipython-input-2-ad1e3de8c803>\u001b[0m in \u001b[0;36m<module>\u001b[1;34m\u001b[0m\n\u001b[1;32m----> 1\u001b[1;33m \u001b[0mflora_fauna\u001b[0m \u001b[1;33m=\u001b[0m \u001b[0mgpd\u001b[0m\u001b[1;33m.\u001b[0m\u001b[0mread_file\u001b[0m\u001b[1;33m(\u001b[0m\u001b[1;34m'SDM702962/ll_gda94/sde_shape/whole/VIC/FLORAFAUNA1/layer/vba_fauna_grid_1m.shp'\u001b[0m\u001b[1;33m)\u001b[0m\u001b[1;33m\u001b[0m\u001b[1;33m\u001b[0m\u001b[0m\n\u001b[0m",
      "\u001b[1;32mc:\\python38\\lib\\site-packages\\geopandas\\io\\file.py\u001b[0m in \u001b[0;36mread_file\u001b[1;34m(filename, bbox, mask, rows, **kwargs)\u001b[0m\n\u001b[0;32m    125\u001b[0m \u001b[1;33m\u001b[0m\u001b[0m\n\u001b[0;32m    126\u001b[0m             \u001b[0mcolumns\u001b[0m \u001b[1;33m=\u001b[0m \u001b[0mlist\u001b[0m\u001b[1;33m(\u001b[0m\u001b[0mfeatures\u001b[0m\u001b[1;33m.\u001b[0m\u001b[0mmeta\u001b[0m\u001b[1;33m[\u001b[0m\u001b[1;34m\"schema\"\u001b[0m\u001b[1;33m]\u001b[0m\u001b[1;33m[\u001b[0m\u001b[1;34m\"properties\"\u001b[0m\u001b[1;33m]\u001b[0m\u001b[1;33m)\u001b[0m \u001b[1;33m+\u001b[0m \u001b[1;33m[\u001b[0m\u001b[1;34m\"geometry\"\u001b[0m\u001b[1;33m]\u001b[0m\u001b[1;33m\u001b[0m\u001b[1;33m\u001b[0m\u001b[0m\n\u001b[1;32m--> 127\u001b[1;33m             \u001b[0mgdf\u001b[0m \u001b[1;33m=\u001b[0m \u001b[0mGeoDataFrame\u001b[0m\u001b[1;33m.\u001b[0m\u001b[0mfrom_features\u001b[0m\u001b[1;33m(\u001b[0m\u001b[0mf_filt\u001b[0m\u001b[1;33m,\u001b[0m \u001b[0mcrs\u001b[0m\u001b[1;33m=\u001b[0m\u001b[0mcrs\u001b[0m\u001b[1;33m,\u001b[0m \u001b[0mcolumns\u001b[0m\u001b[1;33m=\u001b[0m\u001b[0mcolumns\u001b[0m\u001b[1;33m)\u001b[0m\u001b[1;33m\u001b[0m\u001b[1;33m\u001b[0m\u001b[0m\n\u001b[0m\u001b[0;32m    128\u001b[0m \u001b[1;33m\u001b[0m\u001b[0m\n\u001b[0;32m    129\u001b[0m     \u001b[1;32mreturn\u001b[0m \u001b[0mgdf\u001b[0m\u001b[1;33m\u001b[0m\u001b[1;33m\u001b[0m\u001b[0m\n",
      "\u001b[1;32mc:\\python38\\lib\\site-packages\\geopandas\\geodataframe.py\u001b[0m in \u001b[0;36mfrom_features\u001b[1;34m(cls, features, crs, columns)\u001b[0m\n\u001b[0;32m    298\u001b[0m                 \u001b[0mf\u001b[0m \u001b[1;33m=\u001b[0m \u001b[0mf\u001b[0m\u001b[1;33m\u001b[0m\u001b[1;33m\u001b[0m\u001b[0m\n\u001b[0;32m    299\u001b[0m \u001b[1;33m\u001b[0m\u001b[0m\n\u001b[1;32m--> 300\u001b[1;33m             \u001b[0md\u001b[0m \u001b[1;33m=\u001b[0m \u001b[1;33m{\u001b[0m\u001b[1;34m\"geometry\"\u001b[0m\u001b[1;33m:\u001b[0m \u001b[0mshape\u001b[0m\u001b[1;33m(\u001b[0m\u001b[0mf\u001b[0m\u001b[1;33m[\u001b[0m\u001b[1;34m\"geometry\"\u001b[0m\u001b[1;33m]\u001b[0m\u001b[1;33m)\u001b[0m \u001b[1;32mif\u001b[0m \u001b[0mf\u001b[0m\u001b[1;33m[\u001b[0m\u001b[1;34m\"geometry\"\u001b[0m\u001b[1;33m]\u001b[0m \u001b[1;32melse\u001b[0m \u001b[1;32mNone\u001b[0m\u001b[1;33m}\u001b[0m\u001b[1;33m\u001b[0m\u001b[1;33m\u001b[0m\u001b[0m\n\u001b[0m\u001b[0;32m    301\u001b[0m             \u001b[0md\u001b[0m\u001b[1;33m.\u001b[0m\u001b[0mupdate\u001b[0m\u001b[1;33m(\u001b[0m\u001b[0mf\u001b[0m\u001b[1;33m[\u001b[0m\u001b[1;34m\"properties\"\u001b[0m\u001b[1;33m]\u001b[0m\u001b[1;33m)\u001b[0m\u001b[1;33m\u001b[0m\u001b[1;33m\u001b[0m\u001b[0m\n\u001b[0;32m    302\u001b[0m             \u001b[0mrows\u001b[0m\u001b[1;33m.\u001b[0m\u001b[0mappend\u001b[0m\u001b[1;33m(\u001b[0m\u001b[0md\u001b[0m\u001b[1;33m)\u001b[0m\u001b[1;33m\u001b[0m\u001b[1;33m\u001b[0m\u001b[0m\n",
      "\u001b[1;32mc:\\python38\\lib\\site-packages\\shapely\\geometry\\geo.py\u001b[0m in \u001b[0;36mshape\u001b[1;34m(context)\u001b[0m\n\u001b[0;32m     36\u001b[0m             \u001b[1;32mreturn\u001b[0m \u001b[0mPolygon\u001b[0m\u001b[1;33m(\u001b[0m\u001b[1;33m)\u001b[0m\u001b[1;33m\u001b[0m\u001b[1;33m\u001b[0m\u001b[0m\n\u001b[0;32m     37\u001b[0m         \u001b[1;32melse\u001b[0m\u001b[1;33m:\u001b[0m\u001b[1;33m\u001b[0m\u001b[1;33m\u001b[0m\u001b[0m\n\u001b[1;32m---> 38\u001b[1;33m             \u001b[1;32mreturn\u001b[0m \u001b[0mPolygon\u001b[0m\u001b[1;33m(\u001b[0m\u001b[0mob\u001b[0m\u001b[1;33m[\u001b[0m\u001b[1;34m\"coordinates\"\u001b[0m\u001b[1;33m]\u001b[0m\u001b[1;33m[\u001b[0m\u001b[1;36m0\u001b[0m\u001b[1;33m]\u001b[0m\u001b[1;33m,\u001b[0m \u001b[0mob\u001b[0m\u001b[1;33m[\u001b[0m\u001b[1;34m\"coordinates\"\u001b[0m\u001b[1;33m]\u001b[0m\u001b[1;33m[\u001b[0m\u001b[1;36m1\u001b[0m\u001b[1;33m:\u001b[0m\u001b[1;33m]\u001b[0m\u001b[1;33m)\u001b[0m\u001b[1;33m\u001b[0m\u001b[1;33m\u001b[0m\u001b[0m\n\u001b[0m\u001b[0;32m     39\u001b[0m     \u001b[1;32melif\u001b[0m \u001b[0mgeom_type\u001b[0m \u001b[1;33m==\u001b[0m \u001b[1;34m\"multipoint\"\u001b[0m\u001b[1;33m:\u001b[0m\u001b[1;33m\u001b[0m\u001b[1;33m\u001b[0m\u001b[0m\n\u001b[0;32m     40\u001b[0m         \u001b[1;32mreturn\u001b[0m \u001b[0mMultiPoint\u001b[0m\u001b[1;33m(\u001b[0m\u001b[0mob\u001b[0m\u001b[1;33m[\u001b[0m\u001b[1;34m\"coordinates\"\u001b[0m\u001b[1;33m]\u001b[0m\u001b[1;33m)\u001b[0m\u001b[1;33m\u001b[0m\u001b[1;33m\u001b[0m\u001b[0m\n",
      "\u001b[1;32mc:\\python38\\lib\\site-packages\\shapely\\geometry\\polygon.py\u001b[0m in \u001b[0;36m__init__\u001b[1;34m(self, shell, holes)\u001b[0m\n\u001b[0;32m    241\u001b[0m \u001b[1;33m\u001b[0m\u001b[0m\n\u001b[0;32m    242\u001b[0m         \u001b[1;32mif\u001b[0m \u001b[0mshell\u001b[0m \u001b[1;32mis\u001b[0m \u001b[1;32mnot\u001b[0m \u001b[1;32mNone\u001b[0m\u001b[1;33m:\u001b[0m\u001b[1;33m\u001b[0m\u001b[1;33m\u001b[0m\u001b[0m\n\u001b[1;32m--> 243\u001b[1;33m             \u001b[0mret\u001b[0m \u001b[1;33m=\u001b[0m \u001b[0mgeos_polygon_from_py\u001b[0m\u001b[1;33m(\u001b[0m\u001b[0mshell\u001b[0m\u001b[1;33m,\u001b[0m \u001b[0mholes\u001b[0m\u001b[1;33m)\u001b[0m\u001b[1;33m\u001b[0m\u001b[1;33m\u001b[0m\u001b[0m\n\u001b[0m\u001b[0;32m    244\u001b[0m             \u001b[1;32mif\u001b[0m \u001b[0mret\u001b[0m \u001b[1;32mis\u001b[0m \u001b[1;32mnot\u001b[0m \u001b[1;32mNone\u001b[0m\u001b[1;33m:\u001b[0m\u001b[1;33m\u001b[0m\u001b[1;33m\u001b[0m\u001b[0m\n\u001b[0;32m    245\u001b[0m                 \u001b[0mself\u001b[0m\u001b[1;33m.\u001b[0m\u001b[0m_geom\u001b[0m\u001b[1;33m,\u001b[0m \u001b[0mself\u001b[0m\u001b[1;33m.\u001b[0m\u001b[0m_ndim\u001b[0m \u001b[1;33m=\u001b[0m \u001b[0mret\u001b[0m\u001b[1;33m\u001b[0m\u001b[1;33m\u001b[0m\u001b[0m\n",
      "\u001b[1;32mc:\\python38\\lib\\site-packages\\shapely\\geometry\\polygon.py\u001b[0m in \u001b[0;36mgeos_polygon_from_py\u001b[1;34m(shell, holes)\u001b[0m\n\u001b[0;32m    537\u001b[0m \u001b[1;33m\u001b[0m\u001b[0m\n\u001b[0;32m    538\u001b[0m         return (\n\u001b[1;32m--> 539\u001b[1;33m             lgeos.GEOSGeom_createPolygon(\n\u001b[0m\u001b[0;32m    540\u001b[0m                 c_void_p(geos_shell), geos_holes, L), ndim)\n",
      "\u001b[1;31mKeyboardInterrupt\u001b[0m: "
     ]
    }
   ],
   "source": [
    "flora_fauna = gpd.read_file('SDM702962/ll_gda94/sde_shape/whole/VIC/FLORAFAUNA1/layer/vba_fauna_grid_1m.shp')"
   ]
  },
  {
   "cell_type": "code",
   "execution_count": null,
   "metadata": {},
   "outputs": [],
   "source": [
    "flora_fauna.head(10)"
   ]
  },
  {
   "cell_type": "code",
   "execution_count": null,
   "metadata": {},
   "outputs": [],
   "source": [
    "len(flora_fauna)"
   ]
  },
  {
   "cell_type": "code",
   "execution_count": null,
   "metadata": {},
   "outputs": [],
   "source": [
    "flora_fauna.VICADVDESC.unique()"
   ]
  },
  {
   "cell_type": "code",
   "execution_count": null,
   "metadata": {},
   "outputs": [],
   "source": [
    "flora_fauna.plot()"
   ]
  },
  {
   "cell_type": "code",
   "execution_count": null,
   "metadata": {},
   "outputs": [],
   "source": [
    "list_fauna = list(flora_fauna.COMM_NAME.unique())"
   ]
  },
  {
   "cell_type": "code",
   "execution_count": null,
   "metadata": {},
   "outputs": [],
   "source": [
    "for i in list_fauna:\n",
    "    if i is not None and 'red fox' in i.lower():\n",
    "        print(i)"
   ]
  },
  {
   "cell_type": "code",
   "execution_count": null,
   "metadata": {},
   "outputs": [],
   "source": [
    "flora_fauna[flora_fauna['COMM_NAME']=='Red Fox']"
   ]
  },
  {
   "cell_type": "code",
   "execution_count": null,
   "metadata": {},
   "outputs": [],
   "source": [
    "list_foxes = list(flora_fauna[flora_fauna['COMM_NAME']=='Red Fox'].LAST_YEAR)"
   ]
  },
  {
   "cell_type": "code",
   "execution_count": null,
   "metadata": {},
   "outputs": [],
   "source": [
    "list_foxes.sort(reverse = True)"
   ]
  },
  {
   "cell_type": "code",
   "execution_count": null,
   "metadata": {},
   "outputs": [],
   "source": [
    "list_foxes"
   ]
  },
  {
   "cell_type": "code",
   "execution_count": null,
   "metadata": {},
   "outputs": [],
   "source": [
    "list_years = list(flora_fauna.LAST_YEAR.unique())"
   ]
  },
  {
   "cell_type": "code",
   "execution_count": null,
   "metadata": {},
   "outputs": [],
   "source": [
    "list_years.sort(reverse = True)"
   ]
  },
  {
   "cell_type": "code",
   "execution_count": null,
   "metadata": {},
   "outputs": [],
   "source": [
    "list_years"
   ]
  },
  {
   "cell_type": "code",
   "execution_count": null,
   "metadata": {},
   "outputs": [],
   "source": [
    "flora_fauna.ORIGIN.unique()"
   ]
  },
  {
   "cell_type": "code",
   "execution_count": null,
   "metadata": {},
   "outputs": [],
   "source": [
    "for i in list_fauna:\n",
    "    if i is not None and 'wallaby' in i.lower():\n",
    "        print(i)"
   ]
  },
  {
   "cell_type": "code",
   "execution_count": null,
   "metadata": {},
   "outputs": [],
   "source": [
    "wallaby_brush = flora_fauna[flora_fauna['COMM_NAME']=='Brush-tailed Rock-wallaby']"
   ]
  },
  {
   "cell_type": "code",
   "execution_count": null,
   "metadata": {},
   "outputs": [],
   "source": [
    "wallaby_brush"
   ]
  },
  {
   "cell_type": "code",
   "execution_count": null,
   "metadata": {},
   "outputs": [],
   "source": [
    "len(wallaby_brush)"
   ]
  },
  {
   "cell_type": "code",
   "execution_count": null,
   "metadata": {},
   "outputs": [],
   "source": [
    "wallaby_brush.LAST_YEAR.unique()"
   ]
  },
  {
   "cell_type": "markdown",
   "metadata": {},
   "source": [
    "## SDM706248\n",
    "E:\\datasets_bushfire_flora_fauna\\SDM706248\\ll_gda94\\sde_shape\\whole\\VIC\\FLORAFAUNA1\\layer"
   ]
  },
  {
   "cell_type": "code",
   "execution_count": 3,
   "metadata": {},
   "outputs": [],
   "source": [
    "# import datatable as dt"
   ]
  },
  {
   "cell_type": "code",
   "execution_count": 4,
   "metadata": {},
   "outputs": [],
   "source": [
    "# flora_fuana_high = gpd.read_file('SDM706248/ll_gda94/sde_shape/whole/VIC/FLORAFAUNA1/layer/vba_fauna25.shp')"
   ]
  },
  {
   "cell_type": "code",
   "execution_count": 5,
   "metadata": {},
   "outputs": [],
   "source": [
    "# flora_fauna_high.to_excel('flora_fauna_high.xlsx', index = False)"
   ]
  },
  {
   "cell_type": "code",
   "execution_count": 6,
   "metadata": {},
   "outputs": [],
   "source": [
    "# flora_fuana_high_dt = dt.fread('SDM706248/ll_gda94/sde_shape/whole/VIC/FLORAFAUNA1/layer/vba_fauna25.shp')"
   ]
  },
  {
   "cell_type": "code",
   "execution_count": 7,
   "metadata": {},
   "outputs": [],
   "source": [
    "import json"
   ]
  },
  {
   "cell_type": "code",
   "execution_count": 8,
   "metadata": {},
   "outputs": [],
   "source": [
    "import requests"
   ]
  },
  {
   "cell_type": "code",
   "execution_count": 10,
   "metadata": {},
   "outputs": [
    {
     "name": "stderr",
     "output_type": "stream",
     "text": [
      "IOPub data rate exceeded.\n",
      "The notebook server will temporarily stop sending output\n",
      "to the client in order to avoid crashing it.\n",
      "To change this limit, set the config variable\n",
      "`--NotebookApp.iopub_data_rate_limit`.\n",
      "\n",
      "Current values:\n",
      "NotebookApp.iopub_data_rate_limit=1000000.0 (bytes/sec)\n",
      "NotebookApp.rate_limit_window=3.0 (secs)\n",
      "\n"
     ]
    }
   ],
   "source": [
    "import bs4\n",
    "import urllib.request\n",
    "\n",
    "webpage=str(urllib.request.urlopen('https://biocache-ws.ala.org.au/ws/occurrences/search?q=year:2020&fq=class:Mammalia&pageSize=100000').read())\n",
    "soup = bs4.BeautifulSoup(webpage)\n",
    "\n",
    "print(soup.get_text())"
   ]
  },
  {
   "cell_type": "code",
   "execution_count": null,
   "metadata": {},
   "outputs": [],
   "source": [
    "# soup.text"
   ]
  },
  {
   "cell_type": "code",
   "execution_count": 11,
   "metadata": {},
   "outputs": [],
   "source": [
    "import json\n",
    "with open('data.json', 'w') as f:\n",
    "    json.dump(soup.text, f)"
   ]
  },
  {
   "cell_type": "code",
   "execution_count": 12,
   "metadata": {},
   "outputs": [],
   "source": [
    "import json\n",
    "with open('data.json', 'w') as f:\n",
    "    json.dump(soup.get_text(), f)"
   ]
  },
  {
   "cell_type": "code",
   "execution_count": 13,
   "metadata": {},
   "outputs": [],
   "source": [
    "import urllib.request, json \n",
    "with urllib.request.urlopen(\"https://biocache-ws.ala.org.au/ws/occurrences/search?q=year:2020&fq=class:Mammalia&pageSize=100000\") as url:\n",
    "    data = json.loads(url.read().decode())"
   ]
  },
  {
   "cell_type": "code",
   "execution_count": null,
   "metadata": {},
   "outputs": [],
   "source": [
    "# For year and month\n",
    "# https://biocache-ws.ala.org.au/ws/occurrences/search?q=year:2020&fq=class:Mammalia&fq=month:01"
   ]
  },
  {
   "cell_type": "code",
   "execution_count": 14,
   "metadata": {},
   "outputs": [],
   "source": [
    "occurrences = data['occurrences']"
   ]
  },
  {
   "cell_type": "code",
   "execution_count": 15,
   "metadata": {},
   "outputs": [
    {
     "data": {
      "text/plain": [
       "4612"
      ]
     },
     "execution_count": 15,
     "metadata": {},
     "output_type": "execute_result"
    }
   ],
   "source": [
    "len(occurrences)"
   ]
  },
  {
   "cell_type": "code",
   "execution_count": null,
   "metadata": {},
   "outputs": [],
   "source": [
    "# import csv\n",
    "# data_file = open('data_file.csv', 'w') \n",
    "  \n",
    "# # create the csv writer object \n",
    "# csv_writer = csv.writer(data_file) \n",
    "  \n",
    "# # Counter variable used for writing  \n",
    "# # headers to the CSV file \n",
    "# count = 0\n",
    "  \n",
    "# for emp in occurrences: \n",
    "#     if count == 0: \n",
    "  \n",
    "#         # Writing headers of CSV file \n",
    "#         header = emp.keys() \n",
    "#         csv_writer.writerow(header) \n",
    "#         count += 1\n",
    "  \n",
    "#     # Writing data of CSV file \n",
    "#     csv_writer.writerow(emp.values()) \n",
    "  \n",
    "# data_file.close() "
   ]
  },
  {
   "cell_type": "code",
   "execution_count": 35,
   "metadata": {},
   "outputs": [],
   "source": [
    "import pandas as pd"
   ]
  },
  {
   "cell_type": "code",
   "execution_count": 36,
   "metadata": {},
   "outputs": [],
   "source": [
    "occ_df = pd.DataFrame(occurrences)"
   ]
  },
  {
   "cell_type": "code",
   "execution_count": 37,
   "metadata": {},
   "outputs": [
    {
     "data": {
      "text/html": [
       "<div>\n",
       "<style scoped>\n",
       "    .dataframe tbody tr th:only-of-type {\n",
       "        vertical-align: middle;\n",
       "    }\n",
       "\n",
       "    .dataframe tbody tr th {\n",
       "        vertical-align: top;\n",
       "    }\n",
       "\n",
       "    .dataframe thead th {\n",
       "        text-align: right;\n",
       "    }\n",
       "</style>\n",
       "<table border=\"1\" class=\"dataframe\">\n",
       "  <thead>\n",
       "    <tr style=\"text-align: right;\">\n",
       "      <th></th>\n",
       "      <th>uuid</th>\n",
       "      <th>occurrenceID</th>\n",
       "      <th>raw_institutionCode</th>\n",
       "      <th>raw_collectionCode</th>\n",
       "      <th>raw_catalogNumber</th>\n",
       "      <th>taxonConceptID</th>\n",
       "      <th>eventDate</th>\n",
       "      <th>occurrenceYear</th>\n",
       "      <th>scientificName</th>\n",
       "      <th>vernacularName</th>\n",
       "      <th>...</th>\n",
       "      <th>collector</th>\n",
       "      <th>collectors</th>\n",
       "      <th>stateConservation</th>\n",
       "      <th>sensitive</th>\n",
       "      <th>dataProviderUid</th>\n",
       "      <th>dataProviderName</th>\n",
       "      <th>recordNumber</th>\n",
       "      <th>subspecies</th>\n",
       "      <th>subspeciesGuid</th>\n",
       "      <th>raw_vernacularName</th>\n",
       "    </tr>\n",
       "  </thead>\n",
       "  <tbody>\n",
       "    <tr>\n",
       "      <th>0</th>\n",
       "      <td>0b4d3e7d-1d10-4195-ba10-c8d47a6e74dc</td>\n",
       "      <td>https://www.inaturalist.org/observations/38004314</td>\n",
       "      <td>iNaturalist</td>\n",
       "      <td>Observations</td>\n",
       "      <td>38004314</td>\n",
       "      <td>urn:lsid:biodiversity.org.au:afd.taxon:e9d6fbb...</td>\n",
       "      <td>1.580036e+12</td>\n",
       "      <td>1577836800000</td>\n",
       "      <td>Phascolarctos cinereus</td>\n",
       "      <td>Koala</td>\n",
       "      <td>...</td>\n",
       "      <td>NaN</td>\n",
       "      <td>NaN</td>\n",
       "      <td>NaN</td>\n",
       "      <td>NaN</td>\n",
       "      <td>NaN</td>\n",
       "      <td>NaN</td>\n",
       "      <td>NaN</td>\n",
       "      <td>NaN</td>\n",
       "      <td>NaN</td>\n",
       "      <td>NaN</td>\n",
       "    </tr>\n",
       "    <tr>\n",
       "      <th>1</th>\n",
       "      <td>baa49e94-0993-43fb-9194-58bcd1616dd1</td>\n",
       "      <td>https://www.inaturalist.org/observations/40573771</td>\n",
       "      <td>iNaturalist</td>\n",
       "      <td>Observations</td>\n",
       "      <td>40573771</td>\n",
       "      <td>urn:lsid:biodiversity.org.au:afd.taxon:7de6b16...</td>\n",
       "      <td>1.584961e+12</td>\n",
       "      <td>1577836800000</td>\n",
       "      <td>Felis catus</td>\n",
       "      <td>Cat</td>\n",
       "      <td>...</td>\n",
       "      <td>NaN</td>\n",
       "      <td>NaN</td>\n",
       "      <td>NaN</td>\n",
       "      <td>NaN</td>\n",
       "      <td>NaN</td>\n",
       "      <td>NaN</td>\n",
       "      <td>NaN</td>\n",
       "      <td>NaN</td>\n",
       "      <td>NaN</td>\n",
       "      <td>NaN</td>\n",
       "    </tr>\n",
       "    <tr>\n",
       "      <th>2</th>\n",
       "      <td>1ed08b7b-011d-46c7-be56-57d69201f769</td>\n",
       "      <td>https://www.inaturalist.org/observations/41666114</td>\n",
       "      <td>iNaturalist</td>\n",
       "      <td>Observations</td>\n",
       "      <td>41666114</td>\n",
       "      <td>urn:lsid:biodiversity.org.au:afd.taxon:eef0db1...</td>\n",
       "      <td>1.586167e+12</td>\n",
       "      <td>1577836800000</td>\n",
       "      <td>LAGOMORPHA</td>\n",
       "      <td>NaN</td>\n",
       "      <td>...</td>\n",
       "      <td>Stephen Snow</td>\n",
       "      <td>[Snow, S. Stephen]</td>\n",
       "      <td>NaN</td>\n",
       "      <td>NaN</td>\n",
       "      <td>NaN</td>\n",
       "      <td>NaN</td>\n",
       "      <td>NaN</td>\n",
       "      <td>NaN</td>\n",
       "      <td>NaN</td>\n",
       "      <td>NaN</td>\n",
       "    </tr>\n",
       "    <tr>\n",
       "      <th>3</th>\n",
       "      <td>261c8182-71b1-476b-8c28-eb04fb2f93a3</td>\n",
       "      <td>https://www.inaturalist.org/observations/40286889</td>\n",
       "      <td>iNaturalist</td>\n",
       "      <td>Observations</td>\n",
       "      <td>40286889</td>\n",
       "      <td>urn:lsid:biodiversity.org.au:afd.taxon:462548c...</td>\n",
       "      <td>1.584443e+12</td>\n",
       "      <td>1577836800000</td>\n",
       "      <td>Notamacropus agilis</td>\n",
       "      <td>Agile Wallaby</td>\n",
       "      <td>...</td>\n",
       "      <td>Thomas Mesaglio</td>\n",
       "      <td>[Mesaglio, T. Thomas]</td>\n",
       "      <td>Least Concern</td>\n",
       "      <td>NaN</td>\n",
       "      <td>NaN</td>\n",
       "      <td>NaN</td>\n",
       "      <td>NaN</td>\n",
       "      <td>NaN</td>\n",
       "      <td>NaN</td>\n",
       "      <td>NaN</td>\n",
       "    </tr>\n",
       "    <tr>\n",
       "      <th>4</th>\n",
       "      <td>a30655a2-9598-4e8b-b139-b147fe146738</td>\n",
       "      <td>https://www.inaturalist.org/observations/38214404</td>\n",
       "      <td>iNaturalist</td>\n",
       "      <td>Observations</td>\n",
       "      <td>38214404</td>\n",
       "      <td>urn:lsid:biodiversity.org.au:afd.taxon:e9d6fbb...</td>\n",
       "      <td>1.580555e+12</td>\n",
       "      <td>1577836800000</td>\n",
       "      <td>Phascolarctos cinereus</td>\n",
       "      <td>Koala</td>\n",
       "      <td>...</td>\n",
       "      <td>Ben Revell</td>\n",
       "      <td>[Revell, B. Ben]</td>\n",
       "      <td>Vulnerable</td>\n",
       "      <td>NaN</td>\n",
       "      <td>NaN</td>\n",
       "      <td>NaN</td>\n",
       "      <td>NaN</td>\n",
       "      <td>NaN</td>\n",
       "      <td>NaN</td>\n",
       "      <td>NaN</td>\n",
       "    </tr>\n",
       "  </tbody>\n",
       "</table>\n",
       "<p>5 rows × 69 columns</p>\n",
       "</div>"
      ],
      "text/plain": [
       "                                   uuid  \\\n",
       "0  0b4d3e7d-1d10-4195-ba10-c8d47a6e74dc   \n",
       "1  baa49e94-0993-43fb-9194-58bcd1616dd1   \n",
       "2  1ed08b7b-011d-46c7-be56-57d69201f769   \n",
       "3  261c8182-71b1-476b-8c28-eb04fb2f93a3   \n",
       "4  a30655a2-9598-4e8b-b139-b147fe146738   \n",
       "\n",
       "                                        occurrenceID raw_institutionCode  \\\n",
       "0  https://www.inaturalist.org/observations/38004314         iNaturalist   \n",
       "1  https://www.inaturalist.org/observations/40573771         iNaturalist   \n",
       "2  https://www.inaturalist.org/observations/41666114         iNaturalist   \n",
       "3  https://www.inaturalist.org/observations/40286889         iNaturalist   \n",
       "4  https://www.inaturalist.org/observations/38214404         iNaturalist   \n",
       "\n",
       "  raw_collectionCode raw_catalogNumber  \\\n",
       "0       Observations          38004314   \n",
       "1       Observations          40573771   \n",
       "2       Observations          41666114   \n",
       "3       Observations          40286889   \n",
       "4       Observations          38214404   \n",
       "\n",
       "                                      taxonConceptID     eventDate  \\\n",
       "0  urn:lsid:biodiversity.org.au:afd.taxon:e9d6fbb...  1.580036e+12   \n",
       "1  urn:lsid:biodiversity.org.au:afd.taxon:7de6b16...  1.584961e+12   \n",
       "2  urn:lsid:biodiversity.org.au:afd.taxon:eef0db1...  1.586167e+12   \n",
       "3  urn:lsid:biodiversity.org.au:afd.taxon:462548c...  1.584443e+12   \n",
       "4  urn:lsid:biodiversity.org.au:afd.taxon:e9d6fbb...  1.580555e+12   \n",
       "\n",
       "   occurrenceYear          scientificName vernacularName  ...  \\\n",
       "0   1577836800000  Phascolarctos cinereus          Koala  ...   \n",
       "1   1577836800000             Felis catus            Cat  ...   \n",
       "2   1577836800000              LAGOMORPHA            NaN  ...   \n",
       "3   1577836800000     Notamacropus agilis  Agile Wallaby  ...   \n",
       "4   1577836800000  Phascolarctos cinereus          Koala  ...   \n",
       "\n",
       "         collector             collectors stateConservation sensitive  \\\n",
       "0              NaN                    NaN               NaN       NaN   \n",
       "1              NaN                    NaN               NaN       NaN   \n",
       "2     Stephen Snow     [Snow, S. Stephen]               NaN       NaN   \n",
       "3  Thomas Mesaglio  [Mesaglio, T. Thomas]     Least Concern       NaN   \n",
       "4       Ben Revell       [Revell, B. Ben]        Vulnerable       NaN   \n",
       "\n",
       "  dataProviderUid dataProviderName recordNumber subspecies subspeciesGuid  \\\n",
       "0             NaN              NaN          NaN        NaN            NaN   \n",
       "1             NaN              NaN          NaN        NaN            NaN   \n",
       "2             NaN              NaN          NaN        NaN            NaN   \n",
       "3             NaN              NaN          NaN        NaN            NaN   \n",
       "4             NaN              NaN          NaN        NaN            NaN   \n",
       "\n",
       "  raw_vernacularName  \n",
       "0                NaN  \n",
       "1                NaN  \n",
       "2                NaN  \n",
       "3                NaN  \n",
       "4                NaN  \n",
       "\n",
       "[5 rows x 69 columns]"
      ]
     },
     "execution_count": 37,
     "metadata": {},
     "output_type": "execute_result"
    }
   ],
   "source": [
    "occ_df.head()"
   ]
  },
  {
   "cell_type": "code",
   "execution_count": 38,
   "metadata": {},
   "outputs": [
    {
     "data": {
      "text/plain": [
       "Index(['uuid', 'occurrenceID', 'raw_institutionCode', 'raw_collectionCode',\n",
       "       'raw_catalogNumber', 'taxonConceptID', 'eventDate', 'occurrenceYear',\n",
       "       'scientificName', 'vernacularName', 'taxonRank', 'taxonRankID',\n",
       "       'country', 'kingdom', 'phylum', 'classs', 'order', 'family', 'genus',\n",
       "       'genusGuid', 'species', 'speciesGuid', 'stateProvince',\n",
       "       'decimalLatitude', 'decimalLongitude', 'coordinateUncertaintyInMeters',\n",
       "       'year', 'month', 'basisOfRecord', 'raw_occurrenceRemarks', 'left',\n",
       "       'right', 'lga', 'dataResourceUid', 'dataResourceName', 'assertions',\n",
       "       'speciesGroups', 'image', 'images', 'geospatialKosher',\n",
       "       'taxonomicKosher', 'raw_scientificName', 'raw_basisOfRecord', 'latLong',\n",
       "       'point1', 'point01', 'point001', 'point0001', 'point00001', 'namesLsid',\n",
       "       'multimedia', 'license', 'occurrenceDetails', 'rights', 'imageUrl',\n",
       "       'largeImageUrl', 'smallImageUrl', 'thumbnailUrl', 'imageUrls',\n",
       "       'collector', 'collectors', 'stateConservation', 'sensitive',\n",
       "       'dataProviderUid', 'dataProviderName', 'recordNumber', 'subspecies',\n",
       "       'subspeciesGuid', 'raw_vernacularName'],\n",
       "      dtype='object')"
      ]
     },
     "execution_count": 38,
     "metadata": {},
     "output_type": "execute_result"
    }
   ],
   "source": [
    "occ_df.columns"
   ]
  },
  {
   "cell_type": "code",
   "execution_count": 39,
   "metadata": {},
   "outputs": [],
   "source": [
    "occ_vic = occ_df[occ_df['stateProvince']=='Victoria']"
   ]
  },
  {
   "cell_type": "code",
   "execution_count": 40,
   "metadata": {},
   "outputs": [
    {
     "data": {
      "text/plain": [
       "1089"
      ]
     },
     "execution_count": 40,
     "metadata": {},
     "output_type": "execute_result"
    }
   ],
   "source": [
    "len(occ_vic)"
   ]
  },
  {
   "cell_type": "code",
   "execution_count": 41,
   "metadata": {},
   "outputs": [
    {
     "data": {
      "text/html": [
       "<div>\n",
       "<style scoped>\n",
       "    .dataframe tbody tr th:only-of-type {\n",
       "        vertical-align: middle;\n",
       "    }\n",
       "\n",
       "    .dataframe tbody tr th {\n",
       "        vertical-align: top;\n",
       "    }\n",
       "\n",
       "    .dataframe thead th {\n",
       "        text-align: right;\n",
       "    }\n",
       "</style>\n",
       "<table border=\"1\" class=\"dataframe\">\n",
       "  <thead>\n",
       "    <tr style=\"text-align: right;\">\n",
       "      <th></th>\n",
       "      <th>uuid</th>\n",
       "      <th>occurrenceID</th>\n",
       "      <th>raw_institutionCode</th>\n",
       "      <th>raw_collectionCode</th>\n",
       "      <th>raw_catalogNumber</th>\n",
       "      <th>taxonConceptID</th>\n",
       "      <th>eventDate</th>\n",
       "      <th>occurrenceYear</th>\n",
       "      <th>scientificName</th>\n",
       "      <th>vernacularName</th>\n",
       "      <th>...</th>\n",
       "      <th>collector</th>\n",
       "      <th>collectors</th>\n",
       "      <th>stateConservation</th>\n",
       "      <th>sensitive</th>\n",
       "      <th>dataProviderUid</th>\n",
       "      <th>dataProviderName</th>\n",
       "      <th>recordNumber</th>\n",
       "      <th>subspecies</th>\n",
       "      <th>subspeciesGuid</th>\n",
       "      <th>raw_vernacularName</th>\n",
       "    </tr>\n",
       "  </thead>\n",
       "  <tbody>\n",
       "    <tr>\n",
       "      <th>5</th>\n",
       "      <td>a5c12d1e-4be9-4311-a3ef-48a2d6d54c7a</td>\n",
       "      <td>https://www.inaturalist.org/observations/44548258</td>\n",
       "      <td>iNaturalist</td>\n",
       "      <td>Observations</td>\n",
       "      <td>44548258</td>\n",
       "      <td>urn:lsid:biodiversity.org.au:afd.taxon:e079f94...</td>\n",
       "      <td>1.588241e+12</td>\n",
       "      <td>1577836800000</td>\n",
       "      <td>Vombatus ursinus</td>\n",
       "      <td>Common Wombat</td>\n",
       "      <td>...</td>\n",
       "      <td>Reiner Richter</td>\n",
       "      <td>[Richter, R. Reiner]</td>\n",
       "      <td>NaN</td>\n",
       "      <td>NaN</td>\n",
       "      <td>NaN</td>\n",
       "      <td>NaN</td>\n",
       "      <td>NaN</td>\n",
       "      <td>NaN</td>\n",
       "      <td>NaN</td>\n",
       "      <td>NaN</td>\n",
       "    </tr>\n",
       "    <tr>\n",
       "      <th>7</th>\n",
       "      <td>1e0c9686-96db-43ca-b977-5421c3a299ea</td>\n",
       "      <td>https://www.inaturalist.org/observations/41966594</td>\n",
       "      <td>iNaturalist</td>\n",
       "      <td>Observations</td>\n",
       "      <td>41966594</td>\n",
       "      <td>urn:lsid:biodiversity.org.au:afd.taxon:0d4c9c0...</td>\n",
       "      <td>1.578740e+12</td>\n",
       "      <td>1577836800000</td>\n",
       "      <td>Tachyglossus aculeatus</td>\n",
       "      <td>Short-beaked Echidna</td>\n",
       "      <td>...</td>\n",
       "      <td>NaN</td>\n",
       "      <td>NaN</td>\n",
       "      <td>NaN</td>\n",
       "      <td>NaN</td>\n",
       "      <td>NaN</td>\n",
       "      <td>NaN</td>\n",
       "      <td>NaN</td>\n",
       "      <td>NaN</td>\n",
       "      <td>NaN</td>\n",
       "      <td>NaN</td>\n",
       "    </tr>\n",
       "    <tr>\n",
       "      <th>16</th>\n",
       "      <td>dca86c08-f819-4e4e-b518-711f1ad2a82f</td>\n",
       "      <td>https://www.inaturalist.org/observations/40747210</td>\n",
       "      <td>iNaturalist</td>\n",
       "      <td>Observations</td>\n",
       "      <td>40747210</td>\n",
       "      <td>urn:lsid:biodiversity.org.au:afd.taxon:003decd...</td>\n",
       "      <td>1.584961e+12</td>\n",
       "      <td>1577836800000</td>\n",
       "      <td>Pseudocheirus peregrinus</td>\n",
       "      <td>Common Ringtail Possum</td>\n",
       "      <td>...</td>\n",
       "      <td>David Akers</td>\n",
       "      <td>[Akers, D. David]</td>\n",
       "      <td>NaN</td>\n",
       "      <td>NaN</td>\n",
       "      <td>NaN</td>\n",
       "      <td>NaN</td>\n",
       "      <td>NaN</td>\n",
       "      <td>NaN</td>\n",
       "      <td>NaN</td>\n",
       "      <td>NaN</td>\n",
       "    </tr>\n",
       "    <tr>\n",
       "      <th>21</th>\n",
       "      <td>fa2ec211-64b3-4a95-8250-e91535c107ef</td>\n",
       "      <td>https://www.inaturalist.org/observations/39790618</td>\n",
       "      <td>iNaturalist</td>\n",
       "      <td>Observations</td>\n",
       "      <td>39790618</td>\n",
       "      <td>urn:lsid:biodiversity.org.au:afd.taxon:2869ce8...</td>\n",
       "      <td>1.580900e+12</td>\n",
       "      <td>1577836800000</td>\n",
       "      <td>Vulpes vulpes</td>\n",
       "      <td>Fox</td>\n",
       "      <td>...</td>\n",
       "      <td>NaN</td>\n",
       "      <td>NaN</td>\n",
       "      <td>NaN</td>\n",
       "      <td>NaN</td>\n",
       "      <td>NaN</td>\n",
       "      <td>NaN</td>\n",
       "      <td>NaN</td>\n",
       "      <td>NaN</td>\n",
       "      <td>NaN</td>\n",
       "      <td>NaN</td>\n",
       "    </tr>\n",
       "    <tr>\n",
       "      <th>22</th>\n",
       "      <td>d06023c7-d12c-4288-bb46-67dd3481bb91</td>\n",
       "      <td>https://www.inaturalist.org/observations/39191517</td>\n",
       "      <td>iNaturalist</td>\n",
       "      <td>Observations</td>\n",
       "      <td>39191517</td>\n",
       "      <td>urn:lsid:biodiversity.org.au:afd.taxon:0d4c9c0...</td>\n",
       "      <td>1.580123e+12</td>\n",
       "      <td>1577836800000</td>\n",
       "      <td>Tachyglossus aculeatus</td>\n",
       "      <td>Short-beaked Echidna</td>\n",
       "      <td>...</td>\n",
       "      <td>Jordan Crooka</td>\n",
       "      <td>[Crooka, J. Jordan]</td>\n",
       "      <td>NaN</td>\n",
       "      <td>NaN</td>\n",
       "      <td>NaN</td>\n",
       "      <td>NaN</td>\n",
       "      <td>NaN</td>\n",
       "      <td>NaN</td>\n",
       "      <td>NaN</td>\n",
       "      <td>NaN</td>\n",
       "    </tr>\n",
       "    <tr>\n",
       "      <th>27</th>\n",
       "      <td>78aa28f5-cf97-4985-82fa-8832d9ef6e1a</td>\n",
       "      <td>https://www.inaturalist.org/observations/38048141</td>\n",
       "      <td>iNaturalist</td>\n",
       "      <td>Observations</td>\n",
       "      <td>38048141</td>\n",
       "      <td>urn:lsid:biodiversity.org.au:afd.taxon:2869ce8...</td>\n",
       "      <td>1.578049e+12</td>\n",
       "      <td>1577836800000</td>\n",
       "      <td>Vulpes vulpes</td>\n",
       "      <td>Fox</td>\n",
       "      <td>...</td>\n",
       "      <td>NaN</td>\n",
       "      <td>NaN</td>\n",
       "      <td>NaN</td>\n",
       "      <td>NaN</td>\n",
       "      <td>NaN</td>\n",
       "      <td>NaN</td>\n",
       "      <td>NaN</td>\n",
       "      <td>NaN</td>\n",
       "      <td>NaN</td>\n",
       "      <td>NaN</td>\n",
       "    </tr>\n",
       "    <tr>\n",
       "      <th>39</th>\n",
       "      <td>cd556957-0a29-48d8-a6d5-d68a7f16a782</td>\n",
       "      <td>https://www.inaturalist.org/observations/43290485</td>\n",
       "      <td>iNaturalist</td>\n",
       "      <td>Observations</td>\n",
       "      <td>43290485</td>\n",
       "      <td>urn:lsid:biodiversity.org.au:afd.taxon:23f4784...</td>\n",
       "      <td>1.587809e+12</td>\n",
       "      <td>1577836800000</td>\n",
       "      <td>Macropus giganteus</td>\n",
       "      <td>Eastern Grey Kangaroo</td>\n",
       "      <td>...</td>\n",
       "      <td>Rod Lowther</td>\n",
       "      <td>[Lowther, R. Rod]</td>\n",
       "      <td>NaN</td>\n",
       "      <td>NaN</td>\n",
       "      <td>NaN</td>\n",
       "      <td>NaN</td>\n",
       "      <td>NaN</td>\n",
       "      <td>NaN</td>\n",
       "      <td>NaN</td>\n",
       "      <td>NaN</td>\n",
       "    </tr>\n",
       "    <tr>\n",
       "      <th>40</th>\n",
       "      <td>1cf6da6d-f347-4872-85b9-cc0f56ea48fc</td>\n",
       "      <td>https://www.inaturalist.org/observations/39638032</td>\n",
       "      <td>iNaturalist</td>\n",
       "      <td>Observations</td>\n",
       "      <td>39638032</td>\n",
       "      <td>urn:lsid:biodiversity.org.au:afd.taxon:751e662...</td>\n",
       "      <td>1.582888e+12</td>\n",
       "      <td>1577836800000</td>\n",
       "      <td>Axis porcinus</td>\n",
       "      <td>Hog Deer</td>\n",
       "      <td>...</td>\n",
       "      <td>Diana Droog</td>\n",
       "      <td>[Droog, D. Diana]</td>\n",
       "      <td>NaN</td>\n",
       "      <td>NaN</td>\n",
       "      <td>NaN</td>\n",
       "      <td>NaN</td>\n",
       "      <td>NaN</td>\n",
       "      <td>NaN</td>\n",
       "      <td>NaN</td>\n",
       "      <td>NaN</td>\n",
       "    </tr>\n",
       "    <tr>\n",
       "      <th>44</th>\n",
       "      <td>813d2631-19aa-41b4-876a-01ba5dbb1b60</td>\n",
       "      <td>https://www.inaturalist.org/observations/41843768</td>\n",
       "      <td>iNaturalist</td>\n",
       "      <td>Observations</td>\n",
       "      <td>41843768</td>\n",
       "      <td>urn:lsid:biodiversity.org.au:afd.taxon:6899d62...</td>\n",
       "      <td>1.583838e+12</td>\n",
       "      <td>1577836800000</td>\n",
       "      <td>Tachyglossus aculeatus aculeatus</td>\n",
       "      <td>NaN</td>\n",
       "      <td>...</td>\n",
       "      <td>NaN</td>\n",
       "      <td>NaN</td>\n",
       "      <td>NaN</td>\n",
       "      <td>NaN</td>\n",
       "      <td>NaN</td>\n",
       "      <td>NaN</td>\n",
       "      <td>NaN</td>\n",
       "      <td>Tachyglossus aculeatus aculeatus</td>\n",
       "      <td>urn:lsid:biodiversity.org.au:afd.taxon:6899d62...</td>\n",
       "      <td>NaN</td>\n",
       "    </tr>\n",
       "    <tr>\n",
       "      <th>45</th>\n",
       "      <td>eb2aa74d-784b-4800-b738-a6dc1232f730</td>\n",
       "      <td>https://www.inaturalist.org/observations/39790495</td>\n",
       "      <td>iNaturalist</td>\n",
       "      <td>Observations</td>\n",
       "      <td>39790495</td>\n",
       "      <td>urn:lsid:biodiversity.org.au:afd.taxon:e079f94...</td>\n",
       "      <td>1.582542e+12</td>\n",
       "      <td>1577836800000</td>\n",
       "      <td>Vombatus ursinus</td>\n",
       "      <td>Common Wombat</td>\n",
       "      <td>...</td>\n",
       "      <td>NaN</td>\n",
       "      <td>NaN</td>\n",
       "      <td>NaN</td>\n",
       "      <td>NaN</td>\n",
       "      <td>NaN</td>\n",
       "      <td>NaN</td>\n",
       "      <td>NaN</td>\n",
       "      <td>NaN</td>\n",
       "      <td>NaN</td>\n",
       "      <td>NaN</td>\n",
       "    </tr>\n",
       "  </tbody>\n",
       "</table>\n",
       "<p>10 rows × 69 columns</p>\n",
       "</div>"
      ],
      "text/plain": [
       "                                    uuid  \\\n",
       "5   a5c12d1e-4be9-4311-a3ef-48a2d6d54c7a   \n",
       "7   1e0c9686-96db-43ca-b977-5421c3a299ea   \n",
       "16  dca86c08-f819-4e4e-b518-711f1ad2a82f   \n",
       "21  fa2ec211-64b3-4a95-8250-e91535c107ef   \n",
       "22  d06023c7-d12c-4288-bb46-67dd3481bb91   \n",
       "27  78aa28f5-cf97-4985-82fa-8832d9ef6e1a   \n",
       "39  cd556957-0a29-48d8-a6d5-d68a7f16a782   \n",
       "40  1cf6da6d-f347-4872-85b9-cc0f56ea48fc   \n",
       "44  813d2631-19aa-41b4-876a-01ba5dbb1b60   \n",
       "45  eb2aa74d-784b-4800-b738-a6dc1232f730   \n",
       "\n",
       "                                         occurrenceID raw_institutionCode  \\\n",
       "5   https://www.inaturalist.org/observations/44548258         iNaturalist   \n",
       "7   https://www.inaturalist.org/observations/41966594         iNaturalist   \n",
       "16  https://www.inaturalist.org/observations/40747210         iNaturalist   \n",
       "21  https://www.inaturalist.org/observations/39790618         iNaturalist   \n",
       "22  https://www.inaturalist.org/observations/39191517         iNaturalist   \n",
       "27  https://www.inaturalist.org/observations/38048141         iNaturalist   \n",
       "39  https://www.inaturalist.org/observations/43290485         iNaturalist   \n",
       "40  https://www.inaturalist.org/observations/39638032         iNaturalist   \n",
       "44  https://www.inaturalist.org/observations/41843768         iNaturalist   \n",
       "45  https://www.inaturalist.org/observations/39790495         iNaturalist   \n",
       "\n",
       "   raw_collectionCode raw_catalogNumber  \\\n",
       "5        Observations          44548258   \n",
       "7        Observations          41966594   \n",
       "16       Observations          40747210   \n",
       "21       Observations          39790618   \n",
       "22       Observations          39191517   \n",
       "27       Observations          38048141   \n",
       "39       Observations          43290485   \n",
       "40       Observations          39638032   \n",
       "44       Observations          41843768   \n",
       "45       Observations          39790495   \n",
       "\n",
       "                                       taxonConceptID     eventDate  \\\n",
       "5   urn:lsid:biodiversity.org.au:afd.taxon:e079f94...  1.588241e+12   \n",
       "7   urn:lsid:biodiversity.org.au:afd.taxon:0d4c9c0...  1.578740e+12   \n",
       "16  urn:lsid:biodiversity.org.au:afd.taxon:003decd...  1.584961e+12   \n",
       "21  urn:lsid:biodiversity.org.au:afd.taxon:2869ce8...  1.580900e+12   \n",
       "22  urn:lsid:biodiversity.org.au:afd.taxon:0d4c9c0...  1.580123e+12   \n",
       "27  urn:lsid:biodiversity.org.au:afd.taxon:2869ce8...  1.578049e+12   \n",
       "39  urn:lsid:biodiversity.org.au:afd.taxon:23f4784...  1.587809e+12   \n",
       "40  urn:lsid:biodiversity.org.au:afd.taxon:751e662...  1.582888e+12   \n",
       "44  urn:lsid:biodiversity.org.au:afd.taxon:6899d62...  1.583838e+12   \n",
       "45  urn:lsid:biodiversity.org.au:afd.taxon:e079f94...  1.582542e+12   \n",
       "\n",
       "    occurrenceYear                    scientificName          vernacularName  \\\n",
       "5    1577836800000                  Vombatus ursinus           Common Wombat   \n",
       "7    1577836800000            Tachyglossus aculeatus    Short-beaked Echidna   \n",
       "16   1577836800000          Pseudocheirus peregrinus  Common Ringtail Possum   \n",
       "21   1577836800000                     Vulpes vulpes                     Fox   \n",
       "22   1577836800000            Tachyglossus aculeatus    Short-beaked Echidna   \n",
       "27   1577836800000                     Vulpes vulpes                     Fox   \n",
       "39   1577836800000                Macropus giganteus   Eastern Grey Kangaroo   \n",
       "40   1577836800000                     Axis porcinus                Hog Deer   \n",
       "44   1577836800000  Tachyglossus aculeatus aculeatus                     NaN   \n",
       "45   1577836800000                  Vombatus ursinus           Common Wombat   \n",
       "\n",
       "    ...       collector            collectors stateConservation sensitive  \\\n",
       "5   ...  Reiner Richter  [Richter, R. Reiner]               NaN       NaN   \n",
       "7   ...             NaN                   NaN               NaN       NaN   \n",
       "16  ...     David Akers     [Akers, D. David]               NaN       NaN   \n",
       "21  ...             NaN                   NaN               NaN       NaN   \n",
       "22  ...   Jordan Crooka   [Crooka, J. Jordan]               NaN       NaN   \n",
       "27  ...             NaN                   NaN               NaN       NaN   \n",
       "39  ...     Rod Lowther     [Lowther, R. Rod]               NaN       NaN   \n",
       "40  ...     Diana Droog     [Droog, D. Diana]               NaN       NaN   \n",
       "44  ...             NaN                   NaN               NaN       NaN   \n",
       "45  ...             NaN                   NaN               NaN       NaN   \n",
       "\n",
       "   dataProviderUid dataProviderName recordNumber  \\\n",
       "5              NaN              NaN          NaN   \n",
       "7              NaN              NaN          NaN   \n",
       "16             NaN              NaN          NaN   \n",
       "21             NaN              NaN          NaN   \n",
       "22             NaN              NaN          NaN   \n",
       "27             NaN              NaN          NaN   \n",
       "39             NaN              NaN          NaN   \n",
       "40             NaN              NaN          NaN   \n",
       "44             NaN              NaN          NaN   \n",
       "45             NaN              NaN          NaN   \n",
       "\n",
       "                          subspecies  \\\n",
       "5                                NaN   \n",
       "7                                NaN   \n",
       "16                               NaN   \n",
       "21                               NaN   \n",
       "22                               NaN   \n",
       "27                               NaN   \n",
       "39                               NaN   \n",
       "40                               NaN   \n",
       "44  Tachyglossus aculeatus aculeatus   \n",
       "45                               NaN   \n",
       "\n",
       "                                       subspeciesGuid raw_vernacularName  \n",
       "5                                                 NaN                NaN  \n",
       "7                                                 NaN                NaN  \n",
       "16                                                NaN                NaN  \n",
       "21                                                NaN                NaN  \n",
       "22                                                NaN                NaN  \n",
       "27                                                NaN                NaN  \n",
       "39                                                NaN                NaN  \n",
       "40                                                NaN                NaN  \n",
       "44  urn:lsid:biodiversity.org.au:afd.taxon:6899d62...                NaN  \n",
       "45                                                NaN                NaN  \n",
       "\n",
       "[10 rows x 69 columns]"
      ]
     },
     "execution_count": 41,
     "metadata": {},
     "output_type": "execute_result"
    }
   ],
   "source": [
    "occ_vic.head(10)"
   ]
  },
  {
   "cell_type": "code",
   "execution_count": 42,
   "metadata": {},
   "outputs": [
    {
     "data": {
      "text/plain": [
       "Fox                          158\n",
       "Eastern Grey Kangaroo        140\n",
       "Swamp Wallaby                136\n",
       "Short-beaked Echidna          99\n",
       "Common Ringtail Possum        99\n",
       "Koala                         49\n",
       "Bush Rat                      40\n",
       "Common Brushtail Possum       39\n",
       "Common Wombat                 38\n",
       "Southern Brown Bandicoot      29\n",
       "Platypus                      22\n",
       "Rabbit                        20\n",
       "Mountain Brushtail Possum     16\n",
       "Grey-headed Flying-fox        15\n",
       "Sugar Glider                  13\n",
       "Black Rat                     11\n",
       "Water-rat                     11\n",
       "Australian Fur-seal            7\n",
       "Brush-tailed Phascogale        6\n",
       "Little Red Flying-fox          6\n",
       "Squirrel Glider                6\n",
       "Fallow Deer                    6\n",
       "Greater Glider                 5\n",
       "Western Grey Kangaroo          3\n",
       "Yellow-footed Antechinus       3\n",
       "Agile Antechinus               3\n",
       "Lesser Long-eared Bat          3\n",
       "House Mouse                    3\n",
       "Mammals                        2\n",
       "eared seals                    2\n",
       "Chocolate Wattled Bat          2\n",
       "Goat                           2\n",
       "Swamp Rat                      2\n",
       "Feathertail Glider             1\n",
       "Yellow-bellied Glider          1\n",
       "Gould's Long-eared Bat         1\n",
       "Brown Rat                      1\n",
       "Gould's Wattled Bat            1\n",
       "Long-nosed Fur Seal            1\n",
       "bottle-nosed dolphin           1\n",
       "Mountain Pygmy-possum          1\n",
       "Australian Sea-lion            1\n",
       "Heath Rat                      1\n",
       "Eastern False Pipistrelle      1\n",
       "Marsupials                     1\n",
       "dolphins                       1\n",
       "Red Deer                       1\n",
       "Hog Deer                       1\n",
       "Smoky Mouse                    1\n",
       "Swamp Antechinus               1\n",
       "Name: vernacularName, dtype: int64"
      ]
     },
     "execution_count": 42,
     "metadata": {},
     "output_type": "execute_result"
    }
   ],
   "source": [
    "occ_vic.vernacularName.value_counts()"
   ]
  },
  {
   "cell_type": "code",
   "execution_count": 43,
   "metadata": {},
   "outputs": [
    {
     "data": {
      "text/plain": [
       "5       False\n",
       "7       False\n",
       "16      False\n",
       "21       True\n",
       "22      False\n",
       "        ...  \n",
       "4570    False\n",
       "4582    False\n",
       "4585    False\n",
       "4590    False\n",
       "4594     True\n",
       "Name: thumbnailUrl, Length: 1089, dtype: bool"
      ]
     },
     "execution_count": 43,
     "metadata": {},
     "output_type": "execute_result"
    }
   ],
   "source": [
    "occ_vic['thumbnailUrl'].isna()"
   ]
  },
  {
   "cell_type": "code",
   "execution_count": 44,
   "metadata": {},
   "outputs": [],
   "source": [
    "occ_vic_imgs = occ_vic[~occ_vic['thumbnailUrl'].isna()]"
   ]
  },
  {
   "cell_type": "code",
   "execution_count": 45,
   "metadata": {},
   "outputs": [
    {
     "data": {
      "text/plain": [
       "uuid                                1e0c9686-96db-43ca-b977-5421c3a299ea\n",
       "occurrenceID           https://www.inaturalist.org/observations/41966594\n",
       "raw_institutionCode                                          iNaturalist\n",
       "raw_collectionCode                                          Observations\n",
       "raw_catalogNumber                                               41966594\n",
       "                                             ...                        \n",
       "dataProviderName                                                     NaN\n",
       "recordNumber                                                         NaN\n",
       "subspecies                                                           NaN\n",
       "subspeciesGuid                                                       NaN\n",
       "raw_vernacularName                                                   NaN\n",
       "Name: 7, Length: 69, dtype: object"
      ]
     },
     "execution_count": 45,
     "metadata": {},
     "output_type": "execute_result"
    }
   ],
   "source": [
    "occ_vic.iloc[1,:]"
   ]
  },
  {
   "cell_type": "code",
   "execution_count": 46,
   "metadata": {},
   "outputs": [
    {
     "data": {
      "text/plain": [
       "1089"
      ]
     },
     "execution_count": 46,
     "metadata": {},
     "output_type": "execute_result"
    }
   ],
   "source": [
    "len(occ_vic)"
   ]
  },
  {
   "cell_type": "code",
   "execution_count": 47,
   "metadata": {},
   "outputs": [
    {
     "data": {
      "text/plain": [
       "1089"
      ]
     },
     "execution_count": 47,
     "metadata": {},
     "output_type": "execute_result"
    }
   ],
   "source": [
    "len(occ_vic['uuid'].unique())"
   ]
  },
  {
   "cell_type": "code",
   "execution_count": 48,
   "metadata": {},
   "outputs": [
    {
     "name": "stdout",
     "output_type": "stream",
     "text": [
      "uuid ------> 1e0c9686-96db-43ca-b977-5421c3a299ea\n",
      "occurrenceID ------> https://www.inaturalist.org/observations/41966594\n",
      "raw_institutionCode ------> iNaturalist\n",
      "raw_collectionCode ------> Observations\n",
      "raw_catalogNumber ------> 41966594\n",
      "taxonConceptID ------> urn:lsid:biodiversity.org.au:afd.taxon:0d4c9c0c-51d3-44e0-a365-fe0f8b791c66\n",
      "eventDate ------> 1578740400000.0\n",
      "occurrenceYear ------> 1577836800000\n",
      "scientificName ------> Tachyglossus aculeatus\n",
      "vernacularName ------> Short-beaked Echidna\n",
      "taxonRank ------> species\n",
      "taxonRankID ------> 7000\n",
      "country ------> Australia\n",
      "kingdom ------> Animalia\n",
      "phylum ------> Chordata\n",
      "classs ------> Mammalia\n",
      "order ------> Monotremata\n",
      "family ------> Tachyglossidae\n",
      "genus ------> Tachyglossus\n",
      "genusGuid ------> urn:lsid:biodiversity.org.au:afd.taxon:b0791b23-8d6b-4239-979d-9e100f123010\n",
      "species ------> Tachyglossus aculeatus\n",
      "speciesGuid ------> urn:lsid:biodiversity.org.au:afd.taxon:0d4c9c0c-51d3-44e0-a365-fe0f8b791c66\n",
      "stateProvince ------> Victoria\n",
      "decimalLatitude ------> -36.9481278908\n",
      "decimalLongitude ------> 145.8372836641\n",
      "coordinateUncertaintyInMeters ------> 42.0\n",
      "year ------> 2020\n",
      "month ------> 01\n",
      "basisOfRecord ------> HumanObservation\n",
      "raw_occurrenceRemarks ------> nan\n",
      "left ------> 203762\n",
      "right ------> 203770\n",
      "lga ------> Mansfield (S)\n",
      "dataResourceUid ------> dr1411\n",
      "dataResourceName ------> iNaturalist Australia\n",
      "assertions ------> ['assumedPresentOccurrenceStatus', 'geodeticDatumAssumedWgs84', 'countryInferredByCoordinates']\n",
      "speciesGroups ------> ['Animals', 'Mammals']\n",
      "image ------> 349b101b-8526-42b4-8b86-a9993cfd38e8\n",
      "images ------> ['349b101b-8526-42b4-8b86-a9993cfd38e8']\n",
      "geospatialKosher ------> true\n",
      "taxonomicKosher ------> true\n",
      "raw_scientificName ------> Tachyglossus aculeatus\n",
      "raw_basisOfRecord ------> HumanObservation\n",
      "latLong ------> -36.9481278908,145.8372836641\n",
      "point1 ------> -37,146\n",
      "point01 ------> -36.9,145.8\n",
      "point001 ------> -36.95,145.84\n",
      "point0001 ------> -36.948,145.837\n",
      "point00001 ------> -36.9481,145.8373\n",
      "namesLsid ------> Tachyglossus aculeatus|urn:lsid:biodiversity.org.au:afd.taxon:0d4c9c0c-51d3-44e0-a365-fe0f8b791c66|Short-beaked Echidna|Animalia|Tachyglossidae\n",
      "multimedia ------> ['Image']\n",
      "license ------> CC-BY-NC-Int\n",
      "occurrenceDetails ------> https://www.inaturalist.org/observations/41966594\n",
      "rights ------> © cjb52some rights reserved\n",
      "imageUrl ------> https://images.ala.org.au/image/proxyImage?imageId=349b101b-8526-42b4-8b86-a9993cfd38e8\n",
      "largeImageUrl ------> https://images.ala.org.au/image/proxyImageThumbnailLarge?imageId=349b101b-8526-42b4-8b86-a9993cfd38e8\n",
      "smallImageUrl ------> https://images.ala.org.au/image/proxyImageThumbnail?imageId=349b101b-8526-42b4-8b86-a9993cfd38e8\n",
      "thumbnailUrl ------> https://images.ala.org.au/image/proxyImageThumbnail?imageId=349b101b-8526-42b4-8b86-a9993cfd38e8\n",
      "imageUrls ------> ['https://images.ala.org.au/image/proxyImageThumbnailLarge?imageId=349b101b-8526-42b4-8b86-a9993cfd38e8']\n",
      "collector ------> nan\n",
      "collectors ------> nan\n",
      "stateConservation ------> nan\n",
      "sensitive ------> nan\n",
      "dataProviderUid ------> nan\n",
      "dataProviderName ------> nan\n",
      "recordNumber ------> nan\n",
      "subspecies ------> nan\n",
      "subspeciesGuid ------> nan\n",
      "raw_vernacularName ------> nan\n"
     ]
    }
   ],
   "source": [
    "for i,j in enumerate(occ_vic.iloc[1,:]):\n",
    "    print(occ_vic.columns[i],'------>',j)"
   ]
  },
  {
   "cell_type": "code",
   "execution_count": 49,
   "metadata": {},
   "outputs": [],
   "source": [
    "occ_vic.to_csv('occ_vic.csv', index = False)"
   ]
  },
  {
   "cell_type": "code",
   "execution_count": 50,
   "metadata": {},
   "outputs": [],
   "source": [
    "c= '''\n",
    "\n",
    "The best way to identify a Crested Pigeon\n",
    "is to look for a crest of feathers, similar to\n",
    "a mohawk, on their head. While looking\n",
    "somewhat similar, a non-native domestic\n",
    "pigeon has a smooth head (no crest/\n",
    "mohawk). A Spotted Turtle Dove has a\n",
    "white collar with black spots on the back\n",
    "of their necks, and does not have the\n",
    "crest/mohawk either.\n",
    "\n",
    "'''"
   ]
  },
  {
   "cell_type": "code",
   "execution_count": 51,
   "metadata": {},
   "outputs": [
    {
     "data": {
      "text/plain": [
       "['',\n",
       " 'The best way to identify a Crested Pigeon\\nis to look for a crest of feathers, similar to\\na mohawk, on their head. While looking\\nsomewhat similar, a non-native domestic\\npigeon has a smooth head (no crest/\\nmohawk). A Spotted Turtle Dove has a\\nwhite collar with black spots on the back\\nof their necks, and does not have the\\ncrest/mohawk either.',\n",
       " '']"
      ]
     },
     "execution_count": 51,
     "metadata": {},
     "output_type": "execute_result"
    }
   ],
   "source": [
    "c.split('\\n\\n')"
   ]
  },
  {
   "cell_type": "code",
   "execution_count": 52,
   "metadata": {},
   "outputs": [],
   "source": [
    "c_1 = c.split('\\n\\n')"
   ]
  },
  {
   "cell_type": "code",
   "execution_count": 53,
   "metadata": {},
   "outputs": [
    {
     "name": "stdout",
     "output_type": "stream",
     "text": [
      "** The best way to identify a Crested Pigeon\n",
      "is to look for a crest of feathers, similar to\n",
      "a mohawk, on their head. While looking\n",
      "somewhat similar, a non-native domestic\n",
      "pigeon has a smooth head (no crest/\n",
      "mohawk). A Spotted Turtle Dove has a\n",
      "white collar with black spots on the back\n",
      "of their necks, and does not have the\n",
      "crest/mohawk either. **\n"
     ]
    }
   ],
   "source": [
    "for i in c_1:\n",
    "    if i!='':\n",
    "        print('**',i, '**')"
   ]
  },
  {
   "cell_type": "code",
   "execution_count": 54,
   "metadata": {},
   "outputs": [],
   "source": [
    "test_x = '''4\n",
    "apple 12\n",
    "bannana 20\n",
    "orange 14\n",
    "pear 77\n",
    "bannana 56\n",
    "'''"
   ]
  },
  {
   "cell_type": "code",
   "execution_count": 55,
   "metadata": {},
   "outputs": [
    {
     "data": {
      "text/plain": [
       "'4\\napple 12\\nbannana 20\\norange 14\\npear 77\\nbannana 56\\n'"
      ]
     },
     "execution_count": 55,
     "metadata": {},
     "output_type": "execute_result"
    }
   ],
   "source": [
    "test_x"
   ]
  },
  {
   "cell_type": "code",
   "execution_count": 56,
   "metadata": {},
   "outputs": [
    {
     "data": {
      "text/plain": [
       "'4'"
      ]
     },
     "execution_count": 56,
     "metadata": {},
     "output_type": "execute_result"
    }
   ],
   "source": [
    "test_x.split('\\n')[0]"
   ]
  },
  {
   "cell_type": "code",
   "execution_count": 57,
   "metadata": {},
   "outputs": [],
   "source": [
    "dict_1 = {'a':1, 'b':2, 'c':3}"
   ]
  },
  {
   "cell_type": "code",
   "execution_count": 58,
   "metadata": {},
   "outputs": [
    {
     "data": {
      "text/plain": [
       "['a', 'b', 'c']"
      ]
     },
     "execution_count": 58,
     "metadata": {},
     "output_type": "execute_result"
    }
   ],
   "source": [
    "list(dict_1.keys())"
   ]
  },
  {
   "cell_type": "code",
   "execution_count": 59,
   "metadata": {},
   "outputs": [
    {
     "data": {
      "text/plain": [
       "1"
      ]
     },
     "execution_count": 59,
     "metadata": {},
     "output_type": "execute_result"
    }
   ],
   "source": [
    "min([1,2,3])"
   ]
  },
  {
   "cell_type": "code",
   "execution_count": 60,
   "metadata": {},
   "outputs": [],
   "source": [
    "from sys import stdin"
   ]
  },
  {
   "cell_type": "code",
   "execution_count": 61,
   "metadata": {},
   "outputs": [
    {
     "name": "stdout",
     "output_type": "stream",
     "text": [
      "1\n"
     ]
    }
   ],
   "source": [
    "T = input(stdin.readline())"
   ]
  },
  {
   "cell_type": "code",
   "execution_count": null,
   "metadata": {},
   "outputs": [],
   "source": [
    "for i in T.split('\\n'):\n",
    "    print(i)"
   ]
  },
  {
   "cell_type": "code",
   "execution_count": null,
   "metadata": {},
   "outputs": [],
   "source": [
    "T.split('\\n')"
   ]
  },
  {
   "cell_type": "code",
   "execution_count": null,
   "metadata": {},
   "outputs": [],
   "source": [
    "type(T)"
   ]
  },
  {
   "cell_type": "code",
   "execution_count": null,
   "metadata": {},
   "outputs": [],
   "source": [
    "stdin.readline()"
   ]
  },
  {
   "cell_type": "code",
   "execution_count": null,
   "metadata": {},
   "outputs": [],
   "source": [
    "test_x.split('\\n')"
   ]
  },
  {
   "cell_type": "code",
   "execution_count": null,
   "metadata": {},
   "outputs": [],
   "source": [
    "test_y = '''2\n",
    "\n",
    "5\n",
    "apple 12\n",
    "bannana 20\n",
    "orange 14\n",
    "pear 77\n",
    "bannana 56\n",
    "6\n",
    "apple 12\n",
    "bannana 20\n",
    "orange 14\n",
    "apple 34\n",
    "orange 43\n",
    "bannana 35\n",
    "'''"
   ]
  },
  {
   "cell_type": "code",
   "execution_count": null,
   "metadata": {},
   "outputs": [],
   "source": [
    "list_y = test_y.split('\\n\\n')"
   ]
  },
  {
   "cell_type": "code",
   "execution_count": 62,
   "metadata": {},
   "outputs": [
    {
     "ename": "SyntaxError",
     "evalue": "invalid syntax (<ipython-input-62-3c6b860e7f3b>, line 2)",
     "output_type": "error",
     "traceback": [
      "\u001b[1;36m  File \u001b[1;32m\"<ipython-input-62-3c6b860e7f3b>\"\u001b[1;36m, line \u001b[1;32m2\u001b[0m\n\u001b[1;33m    for j in range()\u001b[0m\n\u001b[1;37m                    ^\u001b[0m\n\u001b[1;31mSyntaxError\u001b[0m\u001b[1;31m:\u001b[0m invalid syntax\n"
     ]
    }
   ],
   "source": [
    "for i in range(int(list_y[0])):\n",
    "    for j in range()"
   ]
  },
  {
   "cell_type": "code",
   "execution_count": null,
   "metadata": {},
   "outputs": [],
   "source": [
    "# occ_vic.decimalLatitude\n",
    "# occ_vic.decimalLongitude"
   ]
  },
  {
   "cell_type": "code",
   "execution_count": 63,
   "metadata": {},
   "outputs": [
    {
     "ename": "ModuleNotFoundError",
     "evalue": "No module named 'folium'",
     "output_type": "error",
     "traceback": [
      "\u001b[1;31m---------------------------------------------------------------------------\u001b[0m",
      "\u001b[1;31mModuleNotFoundError\u001b[0m                       Traceback (most recent call last)",
      "\u001b[1;32m<ipython-input-63-173c1173bf1c>\u001b[0m in \u001b[0;36m<module>\u001b[1;34m\u001b[0m\n\u001b[1;32m----> 1\u001b[1;33m \u001b[1;32mimport\u001b[0m \u001b[0mfolium\u001b[0m\u001b[1;33m\u001b[0m\u001b[1;33m\u001b[0m\u001b[0m\n\u001b[0m",
      "\u001b[1;31mModuleNotFoundError\u001b[0m: No module named 'folium'"
     ]
    }
   ],
   "source": [
    "import folium"
   ]
  },
  {
   "cell_type": "code",
   "execution_count": null,
   "metadata": {},
   "outputs": [],
   "source": [
    "# import folium\n",
    "# m = folium.Map([-37.8136, 144.9631], zoom_start = 4.3)\n",
    "# m"
   ]
  },
  {
   "cell_type": "code",
   "execution_count": null,
   "metadata": {},
   "outputs": [],
   "source": [
    "for index, row in occ_vic.iterrows():\n",
    "    folium.Marker([row['decimalLatitude'], row['decimalLongitude']],\n",
    "              tooltip=row['vernacularName'],              \n",
    "             ).add_to(m)\n",
    "m\n"
   ]
  },
  {
   "cell_type": "code",
   "execution_count": null,
   "metadata": {},
   "outputs": [],
   "source": [
    "m.save(outfile = 'sightings_2020.html')"
   ]
  },
  {
   "cell_type": "code",
   "execution_count": null,
   "metadata": {},
   "outputs": [],
   "source": [
    "# from shapely.geometry import Polygon\n",
    "\n",
    "# lat_point_list = [50.854457, 48.853033, 52.518172, 50.072651, 50.854457]\n",
    "# lon_point_list = [4.377184, 2.349553, 13.407759, 14.435935, 4.377184]\n",
    "\n",
    "# polygon_geom = Polygon(zip(lon_point_list, lat_point_list))\n",
    "# polygon_geom2 = polygon_geom.convex_hull # the atribute\n",
    "# import folium\n",
    "# m = folium.Map([50.854457, 4.377184], zoom_start=5)\n",
    "# folium.GeoJson(polygon_geom).add_to(m)\n",
    "# folium.GeoJson(polygon_geom2).add_to(m)\n",
    "# folium.LatLngPopup().add_to(m)\n",
    "# m"
   ]
  },
  {
   "cell_type": "code",
   "execution_count": 65,
   "metadata": {},
   "outputs": [],
   "source": [
    "species_vic_inc = pd.read_excel('species_vic_inclusive_converted.xlsx')"
   ]
  },
  {
   "cell_type": "code",
   "execution_count": 66,
   "metadata": {},
   "outputs": [
    {
     "data": {
      "text/html": [
       "<div>\n",
       "<style scoped>\n",
       "    .dataframe tbody tr th:only-of-type {\n",
       "        vertical-align: middle;\n",
       "    }\n",
       "\n",
       "    .dataframe tbody tr th {\n",
       "        vertical-align: top;\n",
       "    }\n",
       "\n",
       "    .dataframe thead th {\n",
       "        text-align: right;\n",
       "    }\n",
       "</style>\n",
       "<table border=\"1\" class=\"dataframe\">\n",
       "  <thead>\n",
       "    <tr style=\"text-align: right;\">\n",
       "      <th></th>\n",
       "      <th>OBJECTID</th>\n",
       "      <th>Shape_Leng</th>\n",
       "      <th>Shape_Area</th>\n",
       "      <th>listed_id</th>\n",
       "      <th>map_id</th>\n",
       "      <th>sci_name</th>\n",
       "      <th>comm_name</th>\n",
       "      <th>threatened</th>\n",
       "      <th>migratory</th>\n",
       "      <th>pres_rank</th>\n",
       "      <th>...</th>\n",
       "      <th>tax_order</th>\n",
       "      <th>tax_class</th>\n",
       "      <th>tax_phylum</th>\n",
       "      <th>tax_king</th>\n",
       "      <th>other_ids</th>\n",
       "      <th>cell_size</th>\n",
       "      <th>regions</th>\n",
       "      <th>attributio</th>\n",
       "      <th>sprat_prof</th>\n",
       "      <th>geometry</th>\n",
       "    </tr>\n",
       "  </thead>\n",
       "  <tbody>\n",
       "    <tr>\n",
       "      <th>0</th>\n",
       "      <td>35</td>\n",
       "      <td>803.88</td>\n",
       "      <td>1340.4448</td>\n",
       "      <td>36</td>\n",
       "      <td>36</td>\n",
       "      <td>Balaenoptera musculus</td>\n",
       "      <td>Blue Whale</td>\n",
       "      <td>Endangered</td>\n",
       "      <td>Migratory</td>\n",
       "      <td>2</td>\n",
       "      <td>...</td>\n",
       "      <td>Cetacea</td>\n",
       "      <td>Mammalia</td>\n",
       "      <td>Chordata</td>\n",
       "      <td>Animalia</td>\n",
       "      <td>NaN</td>\n",
       "      <td>0.01</td>\n",
       "      <td>NT; CI; QLD; NSW; TAS; VIC; WA; ACI; CSI; SA; ...</td>\n",
       "      <td>Species 1km Grids August 2019 Canberra: Depart...</td>\n",
       "      <td>http://www.environment.gov.au/cgi-bin/sprat/pu...</td>\n",
       "      <td>MULTIPOLYGON (((153.22 -68.34999999999997, 153...</td>\n",
       "    </tr>\n",
       "    <tr>\n",
       "      <th>1</th>\n",
       "      <td>36</td>\n",
       "      <td>396.02</td>\n",
       "      <td>373.2306</td>\n",
       "      <td>36</td>\n",
       "      <td>36</td>\n",
       "      <td>Balaenoptera musculus</td>\n",
       "      <td>Blue Whale</td>\n",
       "      <td>Endangered</td>\n",
       "      <td>Migratory</td>\n",
       "      <td>1</td>\n",
       "      <td>...</td>\n",
       "      <td>Cetacea</td>\n",
       "      <td>Mammalia</td>\n",
       "      <td>Chordata</td>\n",
       "      <td>Animalia</td>\n",
       "      <td>NaN</td>\n",
       "      <td>0.01</td>\n",
       "      <td>NT; CI; QLD; NSW; TAS; VIC; WA; ACI; CSI; SA; ...</td>\n",
       "      <td>Species 1km Grids August 2019 Canberra: Depart...</td>\n",
       "      <td>http://www.environment.gov.au/cgi-bin/sprat/pu...</td>\n",
       "      <td>MULTIPOLYGON (((133.5100000000001 -32.13999999...</td>\n",
       "    </tr>\n",
       "    <tr>\n",
       "      <th>2</th>\n",
       "      <td>43</td>\n",
       "      <td>400.30</td>\n",
       "      <td>265.6278</td>\n",
       "      <td>40</td>\n",
       "      <td>40</td>\n",
       "      <td>Eubalaena australis</td>\n",
       "      <td>Southern Right Whale</td>\n",
       "      <td>Endangered</td>\n",
       "      <td>NaN</td>\n",
       "      <td>2</td>\n",
       "      <td>...</td>\n",
       "      <td>Cetacea</td>\n",
       "      <td>Mammalia</td>\n",
       "      <td>Chordata</td>\n",
       "      <td>Animalia</td>\n",
       "      <td>75529</td>\n",
       "      <td>0.01</td>\n",
       "      <td>QLD; NSW; TAS; VIC; WA; CSI; SA; HMI; AAT; JBT...</td>\n",
       "      <td>Species 1km Grids August 2019 Canberra: Depart...</td>\n",
       "      <td>http://www.environment.gov.au/cgi-bin/sprat/pu...</td>\n",
       "      <td>MULTIPOLYGON (((159.0400000000001 -50.99999999...</td>\n",
       "    </tr>\n",
       "    <tr>\n",
       "      <th>3</th>\n",
       "      <td>44</td>\n",
       "      <td>696.52</td>\n",
       "      <td>964.8850</td>\n",
       "      <td>40</td>\n",
       "      <td>40</td>\n",
       "      <td>Eubalaena australis</td>\n",
       "      <td>Southern Right Whale</td>\n",
       "      <td>Endangered</td>\n",
       "      <td>NaN</td>\n",
       "      <td>1</td>\n",
       "      <td>...</td>\n",
       "      <td>Cetacea</td>\n",
       "      <td>Mammalia</td>\n",
       "      <td>Chordata</td>\n",
       "      <td>Animalia</td>\n",
       "      <td>75529</td>\n",
       "      <td>0.01</td>\n",
       "      <td>QLD; NSW; TAS; VIC; WA; CSI; SA; HMI; AAT; JBT...</td>\n",
       "      <td>Species 1km Grids August 2019 Canberra: Depart...</td>\n",
       "      <td>http://www.environment.gov.au/cgi-bin/sprat/pu...</td>\n",
       "      <td>MULTIPOLYGON (((142.0500000000001 -63.43999999...</td>\n",
       "    </tr>\n",
       "    <tr>\n",
       "      <th>4</th>\n",
       "      <td>84</td>\n",
       "      <td>8.06</td>\n",
       "      <td>0.6568</td>\n",
       "      <td>77</td>\n",
       "      <td>77</td>\n",
       "      <td>Pseudomys shortridgei</td>\n",
       "      <td>Heath Mouse, Dayang, Heath Rat</td>\n",
       "      <td>Endangered</td>\n",
       "      <td>NaN</td>\n",
       "      <td>2</td>\n",
       "      <td>...</td>\n",
       "      <td>Rodentia</td>\n",
       "      <td>Mammalia</td>\n",
       "      <td>Chordata</td>\n",
       "      <td>Animalia</td>\n",
       "      <td>NaN</td>\n",
       "      <td>0.01</td>\n",
       "      <td>VIC; WA; SA</td>\n",
       "      <td>Species 1km Grids August 2019 Canberra: Depart...</td>\n",
       "      <td>http://www.environment.gov.au/cgi-bin/sprat/pu...</td>\n",
       "      <td>MULTIPOLYGON (((141.1599999990001 -37.38999999...</td>\n",
       "    </tr>\n",
       "    <tr>\n",
       "      <th>...</th>\n",
       "      <td>...</td>\n",
       "      <td>...</td>\n",
       "      <td>...</td>\n",
       "      <td>...</td>\n",
       "      <td>...</td>\n",
       "      <td>...</td>\n",
       "      <td>...</td>\n",
       "      <td>...</td>\n",
       "      <td>...</td>\n",
       "      <td>...</td>\n",
       "      <td>...</td>\n",
       "      <td>...</td>\n",
       "      <td>...</td>\n",
       "      <td>...</td>\n",
       "      <td>...</td>\n",
       "      <td>...</td>\n",
       "      <td>...</td>\n",
       "      <td>...</td>\n",
       "      <td>...</td>\n",
       "      <td>...</td>\n",
       "      <td>...</td>\n",
       "    </tr>\n",
       "    <tr>\n",
       "      <th>557</th>\n",
       "      <td>1276</td>\n",
       "      <td>129.14</td>\n",
       "      <td>3.5489</td>\n",
       "      <td>59300</td>\n",
       "      <td>59300</td>\n",
       "      <td>Xenus cinereus</td>\n",
       "      <td>Terek Sandpiper</td>\n",
       "      <td>NaN</td>\n",
       "      <td>Migratory</td>\n",
       "      <td>2</td>\n",
       "      <td>...</td>\n",
       "      <td>Charadriiformes</td>\n",
       "      <td>Aves</td>\n",
       "      <td>Chordata</td>\n",
       "      <td>Animalia</td>\n",
       "      <td>834</td>\n",
       "      <td>0.01</td>\n",
       "      <td>NT; QLD; NSW; VIC; WA; SA</td>\n",
       "      <td>Species 1km Grids August 2019 Canberra: Depart...</td>\n",
       "      <td>http://www.environment.gov.au/cgi-bin/sprat/pu...</td>\n",
       "      <td>MULTIPOLYGON (((147.5400000000001 -42.94999999...</td>\n",
       "    </tr>\n",
       "    <tr>\n",
       "      <th>558</th>\n",
       "      <td>1602</td>\n",
       "      <td>299.04</td>\n",
       "      <td>328.8335</td>\n",
       "      <td>89224</td>\n",
       "      <td>64697</td>\n",
       "      <td>Thalassarche cauta</td>\n",
       "      <td>Tasmanian Shy Albatross</td>\n",
       "      <td>NaN</td>\n",
       "      <td>Migratory</td>\n",
       "      <td>2</td>\n",
       "      <td>...</td>\n",
       "      <td>Procellariiformes</td>\n",
       "      <td>Aves</td>\n",
       "      <td>Chordata</td>\n",
       "      <td>Animalia</td>\n",
       "      <td>25995,64697,82345,89247</td>\n",
       "      <td>0.01</td>\n",
       "      <td>QLD; NSW; TAS; VIC; WA; CSI; SA; JBT; CMA</td>\n",
       "      <td>Species 1km Grids August 2019 Canberra: Depart...</td>\n",
       "      <td>http://www.environment.gov.au/cgi-bin/sprat/pu...</td>\n",
       "      <td>MULTIPOLYGON (((156.8199999990001 -52.99999999...</td>\n",
       "    </tr>\n",
       "    <tr>\n",
       "      <th>559</th>\n",
       "      <td>1603</td>\n",
       "      <td>155.10</td>\n",
       "      <td>128.6587</td>\n",
       "      <td>89224</td>\n",
       "      <td>64697</td>\n",
       "      <td>Thalassarche cauta</td>\n",
       "      <td>Tasmanian Shy Albatross</td>\n",
       "      <td>NaN</td>\n",
       "      <td>Migratory</td>\n",
       "      <td>1</td>\n",
       "      <td>...</td>\n",
       "      <td>Procellariiformes</td>\n",
       "      <td>Aves</td>\n",
       "      <td>Chordata</td>\n",
       "      <td>Animalia</td>\n",
       "      <td>25995,64697,82345,89247</td>\n",
       "      <td>0.01</td>\n",
       "      <td>QLD; NSW; TAS; VIC; WA; CSI; SA; JBT; CMA</td>\n",
       "      <td>Species 1km Grids August 2019 Canberra: Depart...</td>\n",
       "      <td>http://www.environment.gov.au/cgi-bin/sprat/pu...</td>\n",
       "      <td>MULTIPOLYGON (((159.0000000000001 -52.99999999...</td>\n",
       "    </tr>\n",
       "    <tr>\n",
       "      <th>560</th>\n",
       "      <td>3086</td>\n",
       "      <td>489.56</td>\n",
       "      <td>607.9776</td>\n",
       "      <td>64462</td>\n",
       "      <td>64462</td>\n",
       "      <td>Thalassarche steadi</td>\n",
       "      <td>White-capped Albatross</td>\n",
       "      <td>NaN</td>\n",
       "      <td>Migratory</td>\n",
       "      <td>2</td>\n",
       "      <td>...</td>\n",
       "      <td>Procellariiformes</td>\n",
       "      <td>Aves</td>\n",
       "      <td>Chordata</td>\n",
       "      <td>Animalia</td>\n",
       "      <td>82344</td>\n",
       "      <td>0.01</td>\n",
       "      <td>QLD; NSW; TAS; VIC; WA; CSI; SA; HMI; AAT; JBT...</td>\n",
       "      <td>Species 1km Grids August 2019 Canberra: Depart...</td>\n",
       "      <td>http://www.environment.gov.au/cgi-bin/sprat/pu...</td>\n",
       "      <td>MULTIPOLYGON (((159.22 -51.01999999999998, 159...</td>\n",
       "    </tr>\n",
       "    <tr>\n",
       "      <th>561</th>\n",
       "      <td>3087</td>\n",
       "      <td>314.04</td>\n",
       "      <td>330.2507</td>\n",
       "      <td>64462</td>\n",
       "      <td>64462</td>\n",
       "      <td>Thalassarche steadi</td>\n",
       "      <td>White-capped Albatross</td>\n",
       "      <td>NaN</td>\n",
       "      <td>Migratory</td>\n",
       "      <td>1</td>\n",
       "      <td>...</td>\n",
       "      <td>Procellariiformes</td>\n",
       "      <td>Aves</td>\n",
       "      <td>Chordata</td>\n",
       "      <td>Animalia</td>\n",
       "      <td>82344</td>\n",
       "      <td>0.01</td>\n",
       "      <td>QLD; NSW; TAS; VIC; WA; CSI; SA; HMI; AAT; JBT...</td>\n",
       "      <td>Species 1km Grids August 2019 Canberra: Depart...</td>\n",
       "      <td>http://www.environment.gov.au/cgi-bin/sprat/pu...</td>\n",
       "      <td>MULTIPOLYGON (((48.49999999900007 -62.22999999...</td>\n",
       "    </tr>\n",
       "  </tbody>\n",
       "</table>\n",
       "<p>562 rows × 24 columns</p>\n",
       "</div>"
      ],
      "text/plain": [
       "     OBJECTID  Shape_Leng  Shape_Area  listed_id  map_id  \\\n",
       "0          35      803.88   1340.4448         36      36   \n",
       "1          36      396.02    373.2306         36      36   \n",
       "2          43      400.30    265.6278         40      40   \n",
       "3          44      696.52    964.8850         40      40   \n",
       "4          84        8.06      0.6568         77      77   \n",
       "..        ...         ...         ...        ...     ...   \n",
       "557      1276      129.14      3.5489      59300   59300   \n",
       "558      1602      299.04    328.8335      89224   64697   \n",
       "559      1603      155.10    128.6587      89224   64697   \n",
       "560      3086      489.56    607.9776      64462   64462   \n",
       "561      3087      314.04    330.2507      64462   64462   \n",
       "\n",
       "                  sci_name                       comm_name  threatened  \\\n",
       "0    Balaenoptera musculus                      Blue Whale  Endangered   \n",
       "1    Balaenoptera musculus                      Blue Whale  Endangered   \n",
       "2      Eubalaena australis            Southern Right Whale  Endangered   \n",
       "3      Eubalaena australis            Southern Right Whale  Endangered   \n",
       "4    Pseudomys shortridgei  Heath Mouse, Dayang, Heath Rat  Endangered   \n",
       "..                     ...                             ...         ...   \n",
       "557         Xenus cinereus                 Terek Sandpiper         NaN   \n",
       "558     Thalassarche cauta         Tasmanian Shy Albatross         NaN   \n",
       "559     Thalassarche cauta         Tasmanian Shy Albatross         NaN   \n",
       "560    Thalassarche steadi          White-capped Albatross         NaN   \n",
       "561    Thalassarche steadi          White-capped Albatross         NaN   \n",
       "\n",
       "     migratory  pres_rank  ...          tax_order tax_class tax_phylum  \\\n",
       "0    Migratory          2  ...            Cetacea  Mammalia   Chordata   \n",
       "1    Migratory          1  ...            Cetacea  Mammalia   Chordata   \n",
       "2          NaN          2  ...            Cetacea  Mammalia   Chordata   \n",
       "3          NaN          1  ...            Cetacea  Mammalia   Chordata   \n",
       "4          NaN          2  ...           Rodentia  Mammalia   Chordata   \n",
       "..         ...        ...  ...                ...       ...        ...   \n",
       "557  Migratory          2  ...    Charadriiformes      Aves   Chordata   \n",
       "558  Migratory          2  ...  Procellariiformes      Aves   Chordata   \n",
       "559  Migratory          1  ...  Procellariiformes      Aves   Chordata   \n",
       "560  Migratory          2  ...  Procellariiformes      Aves   Chordata   \n",
       "561  Migratory          1  ...  Procellariiformes      Aves   Chordata   \n",
       "\n",
       "     tax_king                other_ids cell_size  \\\n",
       "0    Animalia                      NaN      0.01   \n",
       "1    Animalia                      NaN      0.01   \n",
       "2    Animalia                    75529      0.01   \n",
       "3    Animalia                    75529      0.01   \n",
       "4    Animalia                      NaN      0.01   \n",
       "..        ...                      ...       ...   \n",
       "557  Animalia                      834      0.01   \n",
       "558  Animalia  25995,64697,82345,89247      0.01   \n",
       "559  Animalia  25995,64697,82345,89247      0.01   \n",
       "560  Animalia                    82344      0.01   \n",
       "561  Animalia                    82344      0.01   \n",
       "\n",
       "                                               regions  \\\n",
       "0    NT; CI; QLD; NSW; TAS; VIC; WA; ACI; CSI; SA; ...   \n",
       "1    NT; CI; QLD; NSW; TAS; VIC; WA; ACI; CSI; SA; ...   \n",
       "2    QLD; NSW; TAS; VIC; WA; CSI; SA; HMI; AAT; JBT...   \n",
       "3    QLD; NSW; TAS; VIC; WA; CSI; SA; HMI; AAT; JBT...   \n",
       "4                                          VIC; WA; SA   \n",
       "..                                                 ...   \n",
       "557                          NT; QLD; NSW; VIC; WA; SA   \n",
       "558          QLD; NSW; TAS; VIC; WA; CSI; SA; JBT; CMA   \n",
       "559          QLD; NSW; TAS; VIC; WA; CSI; SA; JBT; CMA   \n",
       "560  QLD; NSW; TAS; VIC; WA; CSI; SA; HMI; AAT; JBT...   \n",
       "561  QLD; NSW; TAS; VIC; WA; CSI; SA; HMI; AAT; JBT...   \n",
       "\n",
       "                                            attributio  \\\n",
       "0    Species 1km Grids August 2019 Canberra: Depart...   \n",
       "1    Species 1km Grids August 2019 Canberra: Depart...   \n",
       "2    Species 1km Grids August 2019 Canberra: Depart...   \n",
       "3    Species 1km Grids August 2019 Canberra: Depart...   \n",
       "4    Species 1km Grids August 2019 Canberra: Depart...   \n",
       "..                                                 ...   \n",
       "557  Species 1km Grids August 2019 Canberra: Depart...   \n",
       "558  Species 1km Grids August 2019 Canberra: Depart...   \n",
       "559  Species 1km Grids August 2019 Canberra: Depart...   \n",
       "560  Species 1km Grids August 2019 Canberra: Depart...   \n",
       "561  Species 1km Grids August 2019 Canberra: Depart...   \n",
       "\n",
       "                                            sprat_prof  \\\n",
       "0    http://www.environment.gov.au/cgi-bin/sprat/pu...   \n",
       "1    http://www.environment.gov.au/cgi-bin/sprat/pu...   \n",
       "2    http://www.environment.gov.au/cgi-bin/sprat/pu...   \n",
       "3    http://www.environment.gov.au/cgi-bin/sprat/pu...   \n",
       "4    http://www.environment.gov.au/cgi-bin/sprat/pu...   \n",
       "..                                                 ...   \n",
       "557  http://www.environment.gov.au/cgi-bin/sprat/pu...   \n",
       "558  http://www.environment.gov.au/cgi-bin/sprat/pu...   \n",
       "559  http://www.environment.gov.au/cgi-bin/sprat/pu...   \n",
       "560  http://www.environment.gov.au/cgi-bin/sprat/pu...   \n",
       "561  http://www.environment.gov.au/cgi-bin/sprat/pu...   \n",
       "\n",
       "                                              geometry  \n",
       "0    MULTIPOLYGON (((153.22 -68.34999999999997, 153...  \n",
       "1    MULTIPOLYGON (((133.5100000000001 -32.13999999...  \n",
       "2    MULTIPOLYGON (((159.0400000000001 -50.99999999...  \n",
       "3    MULTIPOLYGON (((142.0500000000001 -63.43999999...  \n",
       "4    MULTIPOLYGON (((141.1599999990001 -37.38999999...  \n",
       "..                                                 ...  \n",
       "557  MULTIPOLYGON (((147.5400000000001 -42.94999999...  \n",
       "558  MULTIPOLYGON (((156.8199999990001 -52.99999999...  \n",
       "559  MULTIPOLYGON (((159.0000000000001 -52.99999999...  \n",
       "560  MULTIPOLYGON (((159.22 -51.01999999999998, 159...  \n",
       "561  MULTIPOLYGON (((48.49999999900007 -62.22999999...  \n",
       "\n",
       "[562 rows x 24 columns]"
      ]
     },
     "execution_count": 66,
     "metadata": {},
     "output_type": "execute_result"
    }
   ],
   "source": [
    "species_vic_inc"
   ]
  },
  {
   "cell_type": "code",
   "execution_count": 67,
   "metadata": {},
   "outputs": [],
   "source": [
    "list_geoms = []\n",
    "for i in species_vic_inc['geometry']:\n",
    "    list_geoms.append(i)"
   ]
  },
  {
   "cell_type": "code",
   "execution_count": 68,
   "metadata": {},
   "outputs": [],
   "source": [
    "# list_geoms"
   ]
  },
  {
   "cell_type": "code",
   "execution_count": 69,
   "metadata": {},
   "outputs": [],
   "source": [
    "import shapely"
   ]
  },
  {
   "cell_type": "code",
   "execution_count": 70,
   "metadata": {},
   "outputs": [
    {
     "name": "stderr",
     "output_type": "stream",
     "text": [
      "ParseException: Expected number but encountered end of stream\n"
     ]
    },
    {
     "ename": "WKTReadingError",
     "evalue": "Could not create geometry because of errors while reading input.",
     "output_type": "error",
     "traceback": [
      "\u001b[1;31m---------------------------------------------------------------------------\u001b[0m",
      "\u001b[1;31mWKTReadingError\u001b[0m                           Traceback (most recent call last)",
      "\u001b[1;32m<ipython-input-70-4ab864c3d1ba>\u001b[0m in \u001b[0;36m<module>\u001b[1;34m\u001b[0m\n\u001b[1;32m----> 1\u001b[1;33m \u001b[0mlist_polygons\u001b[0m \u001b[1;33m=\u001b[0m  \u001b[1;33m[\u001b[0m\u001b[0mshapely\u001b[0m\u001b[1;33m.\u001b[0m\u001b[0mwkt\u001b[0m\u001b[1;33m.\u001b[0m\u001b[0mloads\u001b[0m\u001b[1;33m(\u001b[0m\u001b[0mpoly\u001b[0m\u001b[1;33m)\u001b[0m \u001b[1;32mfor\u001b[0m \u001b[0mpoly\u001b[0m \u001b[1;32min\u001b[0m \u001b[0mlist_geoms\u001b[0m\u001b[1;33m]\u001b[0m\u001b[1;33m\u001b[0m\u001b[1;33m\u001b[0m\u001b[0m\n\u001b[0m\u001b[0;32m      2\u001b[0m \u001b[0mlist_polygons\u001b[0m\u001b[1;33m[\u001b[0m\u001b[1;36m0\u001b[0m\u001b[1;33m]\u001b[0m\u001b[1;33m\u001b[0m\u001b[1;33m\u001b[0m\u001b[0m\n",
      "\u001b[1;32m<ipython-input-70-4ab864c3d1ba>\u001b[0m in \u001b[0;36m<listcomp>\u001b[1;34m(.0)\u001b[0m\n\u001b[1;32m----> 1\u001b[1;33m \u001b[0mlist_polygons\u001b[0m \u001b[1;33m=\u001b[0m  \u001b[1;33m[\u001b[0m\u001b[0mshapely\u001b[0m\u001b[1;33m.\u001b[0m\u001b[0mwkt\u001b[0m\u001b[1;33m.\u001b[0m\u001b[0mloads\u001b[0m\u001b[1;33m(\u001b[0m\u001b[0mpoly\u001b[0m\u001b[1;33m)\u001b[0m \u001b[1;32mfor\u001b[0m \u001b[0mpoly\u001b[0m \u001b[1;32min\u001b[0m \u001b[0mlist_geoms\u001b[0m\u001b[1;33m]\u001b[0m\u001b[1;33m\u001b[0m\u001b[1;33m\u001b[0m\u001b[0m\n\u001b[0m\u001b[0;32m      2\u001b[0m \u001b[0mlist_polygons\u001b[0m\u001b[1;33m[\u001b[0m\u001b[1;36m0\u001b[0m\u001b[1;33m]\u001b[0m\u001b[1;33m\u001b[0m\u001b[1;33m\u001b[0m\u001b[0m\n",
      "\u001b[1;32mc:\\python38\\lib\\site-packages\\shapely\\wkt.py\u001b[0m in \u001b[0;36mloads\u001b[1;34m(data)\u001b[0m\n\u001b[0;32m      8\u001b[0m \u001b[1;32mdef\u001b[0m \u001b[0mloads\u001b[0m\u001b[1;33m(\u001b[0m\u001b[0mdata\u001b[0m\u001b[1;33m)\u001b[0m\u001b[1;33m:\u001b[0m\u001b[1;33m\u001b[0m\u001b[1;33m\u001b[0m\u001b[0m\n\u001b[0;32m      9\u001b[0m     \u001b[1;34m\"\"\"Load a geometry from a WKT string.\"\"\"\u001b[0m\u001b[1;33m\u001b[0m\u001b[1;33m\u001b[0m\u001b[0m\n\u001b[1;32m---> 10\u001b[1;33m     \u001b[1;32mreturn\u001b[0m \u001b[0mgeos\u001b[0m\u001b[1;33m.\u001b[0m\u001b[0mWKTReader\u001b[0m\u001b[1;33m(\u001b[0m\u001b[0mgeos\u001b[0m\u001b[1;33m.\u001b[0m\u001b[0mlgeos\u001b[0m\u001b[1;33m)\u001b[0m\u001b[1;33m.\u001b[0m\u001b[0mread\u001b[0m\u001b[1;33m(\u001b[0m\u001b[0mdata\u001b[0m\u001b[1;33m)\u001b[0m\u001b[1;33m\u001b[0m\u001b[1;33m\u001b[0m\u001b[0m\n\u001b[0m\u001b[0;32m     11\u001b[0m \u001b[1;33m\u001b[0m\u001b[0m\n\u001b[0;32m     12\u001b[0m \u001b[1;32mdef\u001b[0m \u001b[0mload\u001b[0m\u001b[1;33m(\u001b[0m\u001b[0mfp\u001b[0m\u001b[1;33m)\u001b[0m\u001b[1;33m:\u001b[0m\u001b[1;33m\u001b[0m\u001b[1;33m\u001b[0m\u001b[0m\n",
      "\u001b[1;32mc:\\python38\\lib\\site-packages\\shapely\\geos.py\u001b[0m in \u001b[0;36mread\u001b[1;34m(self, text)\u001b[0m\n\u001b[0;32m    283\u001b[0m         \u001b[0mgeom\u001b[0m \u001b[1;33m=\u001b[0m \u001b[0mself\u001b[0m\u001b[1;33m.\u001b[0m\u001b[0m_lgeos\u001b[0m\u001b[1;33m.\u001b[0m\u001b[0mGEOSWKTReader_read\u001b[0m\u001b[1;33m(\u001b[0m\u001b[0mself\u001b[0m\u001b[1;33m.\u001b[0m\u001b[0m_reader\u001b[0m\u001b[1;33m,\u001b[0m \u001b[0mc_string\u001b[0m\u001b[1;33m)\u001b[0m\u001b[1;33m\u001b[0m\u001b[1;33m\u001b[0m\u001b[0m\n\u001b[0;32m    284\u001b[0m         \u001b[1;32mif\u001b[0m \u001b[1;32mnot\u001b[0m \u001b[0mgeom\u001b[0m\u001b[1;33m:\u001b[0m\u001b[1;33m\u001b[0m\u001b[1;33m\u001b[0m\u001b[0m\n\u001b[1;32m--> 285\u001b[1;33m             raise WKTReadingError(\n\u001b[0m\u001b[0;32m    286\u001b[0m                 \u001b[1;34m\"Could not create geometry because of errors \"\u001b[0m\u001b[1;33m\u001b[0m\u001b[1;33m\u001b[0m\u001b[0m\n\u001b[0;32m    287\u001b[0m                 \"while reading input.\")\n",
      "\u001b[1;31mWKTReadingError\u001b[0m: Could not create geometry because of errors while reading input."
     ]
    }
   ],
   "source": [
    "list_polygons =  [shapely.wkt.loads(poly) for poly in list_geoms]\n",
    "list_polygons[0]"
   ]
  },
  {
   "cell_type": "code",
   "execution_count": null,
   "metadata": {},
   "outputs": [],
   "source": [
    "from shapely import wkt\n",
    "species_vic_inc['geometry'] = species_vic_inc['geometry'].apply(wkt.loads)"
   ]
  },
  {
   "cell_type": "code",
   "execution_count": 33,
   "metadata": {},
   "outputs": [
    {
     "ename": "NameError",
     "evalue": "name 'species_vic_inc' is not defined",
     "output_type": "error",
     "traceback": [
      "\u001b[1;31m---------------------------------------------------------------------------\u001b[0m",
      "\u001b[1;31mNameError\u001b[0m                                 Traceback (most recent call last)",
      "\u001b[1;32m<ipython-input-33-952372bc46dc>\u001b[0m in \u001b[0;36m<module>\u001b[1;34m\u001b[0m\n\u001b[0;32m      5\u001b[0m \u001b[1;31m# df = df.drop(['Lon', 'Lat'], axis=1)\u001b[0m\u001b[1;33m\u001b[0m\u001b[1;33m\u001b[0m\u001b[1;33m\u001b[0m\u001b[0m\n\u001b[0;32m      6\u001b[0m \u001b[0mcrs\u001b[0m \u001b[1;33m=\u001b[0m \u001b[1;33m{\u001b[0m\u001b[1;34m'init'\u001b[0m\u001b[1;33m:\u001b[0m \u001b[1;34m'epsg:4326'\u001b[0m\u001b[1;33m}\u001b[0m\u001b[1;33m\u001b[0m\u001b[1;33m\u001b[0m\u001b[0m\n\u001b[1;32m----> 7\u001b[1;33m \u001b[0mspecies_vic_inc_gdf\u001b[0m \u001b[1;33m=\u001b[0m \u001b[0mGeoDataFrame\u001b[0m\u001b[1;33m(\u001b[0m\u001b[0mspecies_vic_inc\u001b[0m\u001b[1;33m,\u001b[0m \u001b[0mcrs\u001b[0m\u001b[1;33m=\u001b[0m\u001b[0mcrs\u001b[0m\u001b[1;33m,\u001b[0m \u001b[0mgeometry\u001b[0m \u001b[1;33m=\u001b[0m \u001b[0mspecies_vic_inc\u001b[0m\u001b[1;33m.\u001b[0m\u001b[0mgeometry\u001b[0m\u001b[1;33m)\u001b[0m\u001b[1;33m\u001b[0m\u001b[1;33m\u001b[0m\u001b[0m\n\u001b[0m",
      "\u001b[1;31mNameError\u001b[0m: name 'species_vic_inc' is not defined"
     ]
    }
   ],
   "source": [
    "from geopandas import GeoDataFrame\n",
    "from shapely.geometry import Point\n",
    "\n",
    "# geometry = [Point(xy) for xy in zip(df.Lon, df.Lat)]\n",
    "# df = df.drop(['Lon', 'Lat'], axis=1)\n",
    "crs = {'init': 'epsg:4326'}\n",
    "species_vic_inc_gdf = GeoDataFrame(species_vic_inc, crs=crs, geometry = species_vic_inc.geometry)"
   ]
  },
  {
   "cell_type": "code",
   "execution_count": 71,
   "metadata": {},
   "outputs": [
    {
     "ename": "NameError",
     "evalue": "name 'vic_state_b_1' is not defined",
     "output_type": "error",
     "traceback": [
      "\u001b[1;31m---------------------------------------------------------------------------\u001b[0m",
      "\u001b[1;31mNameError\u001b[0m                                 Traceback (most recent call last)",
      "\u001b[1;32m<ipython-input-71-b062fc5a6365>\u001b[0m in \u001b[0;36m<module>\u001b[1;34m\u001b[0m\n\u001b[0;32m      4\u001b[0m \u001b[1;33m\u001b[0m\u001b[0m\n\u001b[0;32m      5\u001b[0m \u001b[1;31m# df = gpd.read_file('/home/bera/geodata/Rectangle_with_hole.shp')\u001b[0m\u001b[1;33m\u001b[0m\u001b[1;33m\u001b[0m\u001b[1;33m\u001b[0m\u001b[0m\n\u001b[1;32m----> 6\u001b[1;33m \u001b[0mg\u001b[0m \u001b[1;33m=\u001b[0m \u001b[0mjson\u001b[0m\u001b[1;33m.\u001b[0m\u001b[0mloads\u001b[0m\u001b[1;33m(\u001b[0m\u001b[0mvic_state_b_1\u001b[0m\u001b[1;33m.\u001b[0m\u001b[0mto_json\u001b[0m\u001b[1;33m(\u001b[0m\u001b[1;33m)\u001b[0m\u001b[1;33m)\u001b[0m\u001b[1;33m\u001b[0m\u001b[1;33m\u001b[0m\u001b[0m\n\u001b[0m\u001b[0;32m      7\u001b[0m \u001b[1;33m\u001b[0m\u001b[0m\n\u001b[0;32m      8\u001b[0m \u001b[1;31m# coords = np.array(g['features'][0]['geometry']['coordinates'])\u001b[0m\u001b[1;33m\u001b[0m\u001b[1;33m\u001b[0m\u001b[1;33m\u001b[0m\u001b[0m\n",
      "\u001b[1;31mNameError\u001b[0m: name 'vic_state_b_1' is not defined"
     ]
    }
   ],
   "source": [
    "import geopandas as gpd\n",
    "import numpy as np\n",
    "import json\n",
    "\n",
    "# df = gpd.read_file('/home/bera/geodata/Rectangle_with_hole.shp')\n",
    "g = json.loads(vic_state_b_1.to_json())\n",
    "\n",
    "# coords = np.array(g['features'][0]['geometry']['coordinates'])"
   ]
  },
  {
   "cell_type": "code",
   "execution_count": null,
   "metadata": {},
   "outputs": [],
   "source": [
    "type(species_vic_inc_gdf)"
   ]
  },
  {
   "cell_type": "code",
   "execution_count": null,
   "metadata": {},
   "outputs": [],
   "source": [
    "species_vic_inc_gdf_mam = species_vic_inc_gdf[species_vic_inc_gdf.tax_class=='Mammalia']"
   ]
  },
  {
   "cell_type": "code",
   "execution_count": null,
   "metadata": {},
   "outputs": [],
   "source": [
    "species_vic_inc_gdf_mam.threatened.unique()"
   ]
  },
  {
   "cell_type": "code",
   "execution_count": null,
   "metadata": {},
   "outputs": [],
   "source": [
    "species_vic_inc_gdf_mam_1 = species_vic_inc_gdf_mam[~species_vic_inc_gdf_mam.threatened.isnull()]"
   ]
  },
  {
   "cell_type": "code",
   "execution_count": null,
   "metadata": {},
   "outputs": [],
   "source": [
    "species_vic_inc_gdf_mam_1.comm_name.value_counts()"
   ]
  },
  {
   "cell_type": "code",
   "execution_count": null,
   "metadata": {},
   "outputs": [],
   "source": [
    "species_vic_inc_gdf_mam_1[species_vic_inc_gdf_mam_1.comm_name == 'Brush-tailed Rock-wallaby'].geometry"
   ]
  },
  {
   "cell_type": "code",
   "execution_count": null,
   "metadata": {},
   "outputs": [],
   "source": [
    "species_vic_inc_gdf_mam_1.plot()"
   ]
  },
  {
   "cell_type": "code",
   "execution_count": null,
   "metadata": {},
   "outputs": [],
   "source": [
    "species_vic_inc_gdf_mam_1.plot()"
   ]
  },
  {
   "cell_type": "code",
   "execution_count": null,
   "metadata": {},
   "outputs": [],
   "source": [
    "gpd_1 = GeoDataFrame(species_vic_inc_mammals_1.loc[[239],'geometry'])"
   ]
  },
  {
   "cell_type": "code",
   "execution_count": null,
   "metadata": {},
   "outputs": [],
   "source": [
    "gpd_1.plot()"
   ]
  },
  {
   "cell_type": "code",
   "execution_count": null,
   "metadata": {},
   "outputs": [],
   "source": [
    "species_vic_inc_mammals_1.plot()"
   ]
  },
  {
   "cell_type": "code",
   "execution_count": null,
   "metadata": {},
   "outputs": [],
   "source": [
    "from shapely.geometry import Polygon\n",
    "\n",
    "# lat_point_list = [50.854457, 48.853033, 52.518172, 50.072651, 50.854457]\n",
    "# lon_point_list = [4.377184, 2.349553, 13.407759, 14.435935, 4.377184]\n",
    "\n",
    "polygon_geom = gpd_1.geometry\n",
    "polygon_geom2 = polygon_geom.convex_hull # the atribute\n",
    "import folium\n",
    "m = folium.Map([50.854457, 4.377184], zoom_start=5)\n",
    "folium.GeoJson(polygon_geom).add_to(m)\n",
    "folium.GeoJson(polygon_geom2).add_to(m)\n",
    "folium.LatLngPopup().add_to(m)\n",
    "m"
   ]
  },
  {
   "cell_type": "code",
   "execution_count": null,
   "metadata": {},
   "outputs": [],
   "source": [
    "species_vic_vul = pd.read_csv('species_vul_vic.csv')"
   ]
  },
  {
   "cell_type": "code",
   "execution_count": null,
   "metadata": {},
   "outputs": [],
   "source": [
    "import mysql.connector"
   ]
  },
  {
   "cell_type": "code",
   "execution_count": null,
   "metadata": {},
   "outputs": [],
   "source": [
    "## Connecting to the database\n",
    "\n",
    "## importing 'mysql.connector' as mysql for convenient\n",
    "import mysql.connector as mysql\n",
    "\n",
    "## connecting to the database using 'connect()' method\n",
    "## it takes 3 required parameters 'host', 'user', 'passwd'\n",
    "db = mysql.connect(\n",
    "    host = \"localhost\",\n",
    "    port = \"3307\",\n",
    "    user = \"root\",\n",
    "    passwd = \"Strong1089\"\n",
    ")\n",
    "\n",
    "print(db)"
   ]
  },
  {
   "cell_type": "code",
   "execution_count": null,
   "metadata": {},
   "outputs": [],
   "source": [
    "cursor = db.cursor()"
   ]
  },
  {
   "cell_type": "code",
   "execution_count": null,
   "metadata": {},
   "outputs": [],
   "source": [
    "cursor.execute(\"CREATE DATABASE datacamp\")"
   ]
  },
  {
   "cell_type": "code",
   "execution_count": null,
   "metadata": {},
   "outputs": [],
   "source": [
    "cursor.execute('SHOW DATABASES')"
   ]
  },
  {
   "cell_type": "code",
   "execution_count": null,
   "metadata": {},
   "outputs": [],
   "source": [
    "databases = cursor.fetchall()"
   ]
  },
  {
   "cell_type": "code",
   "execution_count": null,
   "metadata": {},
   "outputs": [],
   "source": [
    "databases"
   ]
  },
  {
   "cell_type": "code",
   "execution_count": null,
   "metadata": {},
   "outputs": [],
   "source": [
    "db = mysql.connect(\n",
    "    host = \"localhost\",\n",
    "    port = \"3307\",\n",
    "    user = \"root\",\n",
    "    passwd = \"Strong1089\",\n",
    "    database = \"test_with_blob\"\n",
    ")\n",
    "\n",
    "print(db)"
   ]
  },
  {
   "cell_type": "code",
   "execution_count": null,
   "metadata": {},
   "outputs": [],
   "source": [
    "cursor = db.cursor()"
   ]
  },
  {
   "cell_type": "code",
   "execution_count": null,
   "metadata": {},
   "outputs": [],
   "source": [
    "cursor.execute(\"SHOW TABLES\")"
   ]
  },
  {
   "cell_type": "code",
   "execution_count": null,
   "metadata": {},
   "outputs": [],
   "source": [
    "cursor.fetchall()"
   ]
  },
  {
   "cell_type": "code",
   "execution_count": null,
   "metadata": {},
   "outputs": [],
   "source": [
    "species_vic_vul"
   ]
  },
  {
   "cell_type": "code",
   "execution_count": null,
   "metadata": {},
   "outputs": [],
   "source": [
    "species_vic_also = gpd.read_file('species_vic_also.shp')"
   ]
  },
  {
   "cell_type": "code",
   "execution_count": null,
   "metadata": {},
   "outputs": [],
   "source": [
    "species_vic_also"
   ]
  },
  {
   "cell_type": "code",
   "execution_count": null,
   "metadata": {},
   "outputs": [],
   "source": [
    "species_vic_vul_geom = species_vic_also[species_vic_also['OBJECTID'].isin(species_vic_vul['objectid'])]"
   ]
  },
  {
   "cell_type": "code",
   "execution_count": null,
   "metadata": {},
   "outputs": [],
   "source": [
    "species_vic_vul_geom_1 = species_vic_vul_geom[['OBJECTID', 'geometry']].copy()"
   ]
  },
  {
   "cell_type": "code",
   "execution_count": null,
   "metadata": {},
   "outputs": [],
   "source": [
    "species_vic_vul_geom_1"
   ]
  },
  {
   "cell_type": "code",
   "execution_count": null,
   "metadata": {},
   "outputs": [],
   "source": [
    "query = \"SELECT * FROM species_vul_vic\"\n",
    "\n",
    "## getting records from the table\n",
    "cursor.execute(query)\n",
    "\n",
    "## fetching all records from the 'cursor' object\n",
    "records = cursor.fetchall()"
   ]
  },
  {
   "cell_type": "code",
   "execution_count": null,
   "metadata": {},
   "outputs": [],
   "source": [
    "records"
   ]
  },
  {
   "cell_type": "code",
   "execution_count": null,
   "metadata": {},
   "outputs": [],
   "source": [
    "list((species_vic_vul_geom_1.OBJECTID, species_vic_vul_geom_1.geometry))"
   ]
  },
  {
   "cell_type": "code",
   "execution_count": null,
   "metadata": {},
   "outputs": [],
   "source": [
    "list_demo = [tuple(r) for r in species_vic_vul_geom_1.to_numpy().tolist()]"
   ]
  },
  {
   "cell_type": "code",
   "execution_count": null,
   "metadata": {},
   "outputs": [],
   "source": [
    "list_mulp = []\n",
    "for i in species_vic_vul_geom_1.geometry:\n",
    "    list_mulp.append(i)"
   ]
  },
  {
   "cell_type": "code",
   "execution_count": null,
   "metadata": {},
   "outputs": [],
   "source": []
  },
  {
   "cell_type": "code",
   "execution_count": null,
   "metadata": {},
   "outputs": [],
   "source": [
    "## defining the Query\n",
    "query = \"INSERT INTO geom_second (object_id, geom_col) VALUES (%s, %s)\"\n",
    "## storing values in a variable\n",
    "# values = [\n",
    "#     (\"Peter\", \"peter\"),\n",
    "#     (\"Amy\", \"amy\"),\n",
    "#     (\"Michael\", \"michael\"),\n",
    "#     (\"Hennah\", \"hennah\")\n",
    "# ]\n",
    "\n",
    "## executing the query with values\n",
    "cursor.executemany(query, list_demo)\n",
    "\n",
    "## to make final output we have to run the 'commit()' method of the database object\n",
    "db.commit()\n",
    "\n",
    "print(cursor.rowcount, \"records inserted\")"
   ]
  },
  {
   "cell_type": "code",
   "execution_count": null,
   "metadata": {},
   "outputs": [],
   "source": [
    "[list_demo[0][0], list_demo[0][1]]"
   ]
  },
  {
   "cell_type": "code",
   "execution_count": null,
   "metadata": {},
   "outputs": [],
   "source": [
    "sql = '''\n",
    "   INSERT INTO geom_second (objectid, geom_col)\n",
    "   VALUES (%s, ST_GeomFromText(%s, 4326))'''\n",
    "params = [list_demo[0][0], list_demo[0][1]]\n",
    "cursor.execute(sql, params)"
   ]
  },
  {
   "cell_type": "code",
   "execution_count": null,
   "metadata": {},
   "outputs": [],
   "source": [
    "species_vic_vul_geom_1.to_excel('species_vic_vul_geom_1.xlsx', index = False, encoding='utf8')"
   ]
  },
  {
   "cell_type": "code",
   "execution_count": null,
   "metadata": {},
   "outputs": [],
   "source": [
    "## Connecting to the database\n",
    "\n",
    "## importing 'mysql.connector' as mysql for convenient\n",
    "import mysql.connector as mysql\n",
    "\n",
    "## connecting to the database using 'connect()' method\n",
    "## it takes 3 required parameters 'host', 'user', 'passwd'\n",
    "db = mysql.connect(\n",
    "    host = \"database-1.cxbwakh5ffez.us-east-1.rds.amazonaws.com\",\n",
    "    port = \"3306\",\n",
    "    user = \"admin\",\n",
    "    passwd = \"mysql1234\",\n",
    "    database = \"test_schema\"\n",
    ")\n",
    "\n",
    "print(db)"
   ]
  },
  {
   "cell_type": "code",
   "execution_count": null,
   "metadata": {},
   "outputs": [],
   "source": [
    "cursor = db.cursor()"
   ]
  },
  {
   "cell_type": "code",
   "execution_count": null,
   "metadata": {},
   "outputs": [],
   "source": [
    "import pandas as pd"
   ]
  },
  {
   "cell_type": "code",
   "execution_count": null,
   "metadata": {},
   "outputs": [],
   "source": [
    "csv_data[csv_data.id == 6671]"
   ]
  },
  {
   "cell_type": "code",
   "execution_count": null,
   "metadata": {},
   "outputs": [],
   "source": [
    "csv_data = pd.read_csv('suburb_affected_area.csv')\n",
    "# i=0\n",
    "# for row in csv_data.iterrows():\n",
    "# #     print(row[1].values)\n",
    "\n",
    "#     cursor.execute('INSERT INTO suburb_area(id, \\\n",
    "#           suburb, neighboring_suburbs, areas, percent_affected, bushfire_affected )' \\\n",
    "#           'VALUES(\"%s\", \"%s\", \"%s\", \"%s\", \"%s\", \"%s\")', \n",
    "#           row)\n",
    "#     print(i)\n",
    "#     i+=1\n",
    "j = 0\n",
    "for row in csv_data.iterrows():\n",
    "    list = row[1].values\n",
    "    cursor.execute('INSERT INTO suburb_area(id, \\\n",
    "          suburb, neighboring_suburbs, areas, percent_affected, bushfire_affected ) VALUES(\"%s\", \"%s\", \"%s\", \"%s\", \"%s\", \"%s\")' % tuple(list))\n",
    "    print(j)\n",
    "    j+=1\n",
    "\n",
    "#close the connection to the database.\n",
    "mydb.commit()\n",
    "cursor.close()\n",
    "print (\"Done\")"
   ]
  },
  {
   "cell_type": "code",
   "execution_count": null,
   "metadata": {},
   "outputs": [],
   "source": [
    "db.close()"
   ]
  }
 ],
 "metadata": {
  "kernelspec": {
   "display_name": "Python 3",
   "language": "python",
   "name": "python3"
  },
  "language_info": {
   "codemirror_mode": {
    "name": "ipython",
    "version": 3
   },
   "file_extension": ".py",
   "mimetype": "text/x-python",
   "name": "python",
   "nbconvert_exporter": "python",
   "pygments_lexer": "ipython3",
   "version": "3.8.2"
  }
 },
 "nbformat": 4,
 "nbformat_minor": 2
}
